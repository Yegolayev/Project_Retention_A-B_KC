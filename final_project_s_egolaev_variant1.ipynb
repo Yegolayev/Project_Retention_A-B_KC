{
 "cells": [
  {
   "cell_type": "code",
   "execution_count": 18,
   "id": "02f02e2e",
   "metadata": {},
   "outputs": [],
   "source": [
    "import pandas as pd\n",
    "%matplotlib inline\n",
    "import matplotlib.pyplot as plt\n",
    "import seaborn as sns\n",
    "from scipy.stats import shapiro, norm, ttest_ind\n",
    "import numpy as np\n",
    "from tqdm.auto import tqdm"
   ]
  },
  {
   "cell_type": "markdown",
   "id": "82b02299",
   "metadata": {},
   "source": [
    "# Задание 1\n",
    "# Retention – один из самых важных показателей в компании. Ваша задача – написать функцию, которая будет считать retention игроков (по дням от даты регистрации игрока)"
   ]
  },
  {
   "cell_type": "code",
   "execution_count": 30,
   "id": "1de03ebc",
   "metadata": {},
   "outputs": [],
   "source": [
    "# Прочитаем датафреймы, при проверке оказалось что нужен разделитель ';'\n",
    "\n",
    "auth_df = pd.read_csv('/Users/sergejegolaev/Work/KC/fin_project/problem1-auth_data.csv', sep=';')\n",
    "reg_df = pd.read_csv('/Users/sergejegolaev/Work/KC/fin_project/problem1-reg_data.csv', sep=';')"
   ]
  },
  {
   "cell_type": "markdown",
   "id": "7ca5dcb5",
   "metadata": {},
   "source": [
    "Посмотрим на содержимое файлов"
   ]
  },
  {
   "cell_type": "code",
   "execution_count": 5,
   "id": "f63d2215",
   "metadata": {},
   "outputs": [
    {
     "data": {
      "text/html": [
       "<div>\n",
       "<style scoped>\n",
       "    .dataframe tbody tr th:only-of-type {\n",
       "        vertical-align: middle;\n",
       "    }\n",
       "\n",
       "    .dataframe tbody tr th {\n",
       "        vertical-align: top;\n",
       "    }\n",
       "\n",
       "    .dataframe thead th {\n",
       "        text-align: right;\n",
       "    }\n",
       "</style>\n",
       "<table border=\"1\" class=\"dataframe\">\n",
       "  <thead>\n",
       "    <tr style=\"text-align: right;\">\n",
       "      <th></th>\n",
       "      <th>auth_ts</th>\n",
       "      <th>uid</th>\n",
       "    </tr>\n",
       "  </thead>\n",
       "  <tbody>\n",
       "    <tr>\n",
       "      <th>0</th>\n",
       "      <td>911382223</td>\n",
       "      <td>1</td>\n",
       "    </tr>\n",
       "    <tr>\n",
       "      <th>1</th>\n",
       "      <td>932683089</td>\n",
       "      <td>2</td>\n",
       "    </tr>\n",
       "    <tr>\n",
       "      <th>2</th>\n",
       "      <td>932921206</td>\n",
       "      <td>2</td>\n",
       "    </tr>\n",
       "  </tbody>\n",
       "</table>\n",
       "</div>"
      ],
      "text/plain": [
       "     auth_ts  uid\n",
       "0  911382223    1\n",
       "1  932683089    2\n",
       "2  932921206    2"
      ]
     },
     "execution_count": 5,
     "metadata": {},
     "output_type": "execute_result"
    }
   ],
   "source": [
    "auth_df.head(3)"
   ]
  },
  {
   "cell_type": "code",
   "execution_count": 6,
   "id": "4511bc15",
   "metadata": {},
   "outputs": [
    {
     "data": {
      "text/html": [
       "<div>\n",
       "<style scoped>\n",
       "    .dataframe tbody tr th:only-of-type {\n",
       "        vertical-align: middle;\n",
       "    }\n",
       "\n",
       "    .dataframe tbody tr th {\n",
       "        vertical-align: top;\n",
       "    }\n",
       "\n",
       "    .dataframe thead th {\n",
       "        text-align: right;\n",
       "    }\n",
       "</style>\n",
       "<table border=\"1\" class=\"dataframe\">\n",
       "  <thead>\n",
       "    <tr style=\"text-align: right;\">\n",
       "      <th></th>\n",
       "      <th>reg_ts</th>\n",
       "      <th>uid</th>\n",
       "    </tr>\n",
       "  </thead>\n",
       "  <tbody>\n",
       "    <tr>\n",
       "      <th>0</th>\n",
       "      <td>911382223</td>\n",
       "      <td>1</td>\n",
       "    </tr>\n",
       "    <tr>\n",
       "      <th>1</th>\n",
       "      <td>932683089</td>\n",
       "      <td>2</td>\n",
       "    </tr>\n",
       "    <tr>\n",
       "      <th>2</th>\n",
       "      <td>947802447</td>\n",
       "      <td>3</td>\n",
       "    </tr>\n",
       "  </tbody>\n",
       "</table>\n",
       "</div>"
      ],
      "text/plain": [
       "      reg_ts  uid\n",
       "0  911382223    1\n",
       "1  932683089    2\n",
       "2  947802447    3"
      ]
     },
     "execution_count": 6,
     "metadata": {},
     "output_type": "execute_result"
    }
   ],
   "source": [
    "reg_df.head(3)"
   ]
  },
  {
   "cell_type": "code",
   "execution_count": 7,
   "id": "52ba7bae",
   "metadata": {},
   "outputs": [
    {
     "name": "stdout",
     "output_type": "stream",
     "text": [
      "<class 'pandas.core.frame.DataFrame'>\n",
      "RangeIndex: 9601013 entries, 0 to 9601012\n",
      "Data columns (total 2 columns):\n",
      " #   Column   Dtype\n",
      "---  ------   -----\n",
      " 0   auth_ts  int64\n",
      " 1   uid      int64\n",
      "dtypes: int64(2)\n",
      "memory usage: 146.5 MB\n"
     ]
    }
   ],
   "source": [
    "auth_df.info()"
   ]
  },
  {
   "cell_type": "code",
   "execution_count": 8,
   "id": "3a11c1fd",
   "metadata": {},
   "outputs": [
    {
     "name": "stdout",
     "output_type": "stream",
     "text": [
      "<class 'pandas.core.frame.DataFrame'>\n",
      "RangeIndex: 1000000 entries, 0 to 999999\n",
      "Data columns (total 2 columns):\n",
      " #   Column  Non-Null Count    Dtype\n",
      "---  ------  --------------    -----\n",
      " 0   reg_ts  1000000 non-null  int64\n",
      " 1   uid     1000000 non-null  int64\n",
      "dtypes: int64(2)\n",
      "memory usage: 15.3 MB\n"
     ]
    }
   ],
   "source": [
    "reg_df.info()"
   ]
  },
  {
   "cell_type": "code",
   "execution_count": 9,
   "id": "809df642",
   "metadata": {},
   "outputs": [
    {
     "data": {
      "text/html": [
       "<div>\n",
       "<style scoped>\n",
       "    .dataframe tbody tr th:only-of-type {\n",
       "        vertical-align: middle;\n",
       "    }\n",
       "\n",
       "    .dataframe tbody tr th {\n",
       "        vertical-align: top;\n",
       "    }\n",
       "\n",
       "    .dataframe thead th {\n",
       "        text-align: right;\n",
       "    }\n",
       "</style>\n",
       "<table border=\"1\" class=\"dataframe\">\n",
       "  <thead>\n",
       "    <tr style=\"text-align: right;\">\n",
       "      <th></th>\n",
       "      <th>auth_ts</th>\n",
       "      <th>uid</th>\n",
       "    </tr>\n",
       "  </thead>\n",
       "  <tbody>\n",
       "    <tr>\n",
       "      <th>count</th>\n",
       "      <td>9.601013e+06</td>\n",
       "      <td>9.601013e+06</td>\n",
       "    </tr>\n",
       "    <tr>\n",
       "      <th>mean</th>\n",
       "      <td>1.548778e+09</td>\n",
       "      <td>3.347198e+05</td>\n",
       "    </tr>\n",
       "    <tr>\n",
       "      <th>std</th>\n",
       "      <td>5.160527e+07</td>\n",
       "      <td>2.832669e+05</td>\n",
       "    </tr>\n",
       "    <tr>\n",
       "      <th>min</th>\n",
       "      <td>9.113822e+08</td>\n",
       "      <td>1.000000e+00</td>\n",
       "    </tr>\n",
       "    <tr>\n",
       "      <th>25%</th>\n",
       "      <td>1.528375e+09</td>\n",
       "      <td>9.599700e+04</td>\n",
       "    </tr>\n",
       "    <tr>\n",
       "      <th>50%</th>\n",
       "      <td>1.564577e+09</td>\n",
       "      <td>2.579210e+05</td>\n",
       "    </tr>\n",
       "    <tr>\n",
       "      <th>75%</th>\n",
       "      <td>1.585823e+09</td>\n",
       "      <td>5.190250e+05</td>\n",
       "    </tr>\n",
       "    <tr>\n",
       "      <th>max</th>\n",
       "      <td>1.600874e+09</td>\n",
       "      <td>1.110622e+06</td>\n",
       "    </tr>\n",
       "  </tbody>\n",
       "</table>\n",
       "</div>"
      ],
      "text/plain": [
       "            auth_ts           uid\n",
       "count  9.601013e+06  9.601013e+06\n",
       "mean   1.548778e+09  3.347198e+05\n",
       "std    5.160527e+07  2.832669e+05\n",
       "min    9.113822e+08  1.000000e+00\n",
       "25%    1.528375e+09  9.599700e+04\n",
       "50%    1.564577e+09  2.579210e+05\n",
       "75%    1.585823e+09  5.190250e+05\n",
       "max    1.600874e+09  1.110622e+06"
      ]
     },
     "execution_count": 9,
     "metadata": {},
     "output_type": "execute_result"
    }
   ],
   "source": [
    "auth_df.describe()"
   ]
  },
  {
   "cell_type": "code",
   "execution_count": 10,
   "id": "8665afff",
   "metadata": {},
   "outputs": [
    {
     "data": {
      "text/html": [
       "<div>\n",
       "<style scoped>\n",
       "    .dataframe tbody tr th:only-of-type {\n",
       "        vertical-align: middle;\n",
       "    }\n",
       "\n",
       "    .dataframe tbody tr th {\n",
       "        vertical-align: top;\n",
       "    }\n",
       "\n",
       "    .dataframe thead th {\n",
       "        text-align: right;\n",
       "    }\n",
       "</style>\n",
       "<table border=\"1\" class=\"dataframe\">\n",
       "  <thead>\n",
       "    <tr style=\"text-align: right;\">\n",
       "      <th></th>\n",
       "      <th>reg_ts</th>\n",
       "      <th>uid</th>\n",
       "    </tr>\n",
       "  </thead>\n",
       "  <tbody>\n",
       "    <tr>\n",
       "      <th>count</th>\n",
       "      <td>1.000000e+06</td>\n",
       "      <td>1.000000e+06</td>\n",
       "    </tr>\n",
       "    <tr>\n",
       "      <th>mean</th>\n",
       "      <td>1.548332e+09</td>\n",
       "      <td>5.552354e+05</td>\n",
       "    </tr>\n",
       "    <tr>\n",
       "      <th>std</th>\n",
       "      <td>5.253653e+07</td>\n",
       "      <td>3.206011e+05</td>\n",
       "    </tr>\n",
       "    <tr>\n",
       "      <th>min</th>\n",
       "      <td>9.113822e+08</td>\n",
       "      <td>1.000000e+00</td>\n",
       "    </tr>\n",
       "    <tr>\n",
       "      <th>25%</th>\n",
       "      <td>1.528034e+09</td>\n",
       "      <td>2.776438e+05</td>\n",
       "    </tr>\n",
       "    <tr>\n",
       "      <th>50%</th>\n",
       "      <td>1.564454e+09</td>\n",
       "      <td>5.550455e+05</td>\n",
       "    </tr>\n",
       "    <tr>\n",
       "      <th>75%</th>\n",
       "      <td>1.585759e+09</td>\n",
       "      <td>8.329712e+05</td>\n",
       "    </tr>\n",
       "    <tr>\n",
       "      <th>max</th>\n",
       "      <td>1.600874e+09</td>\n",
       "      <td>1.110622e+06</td>\n",
       "    </tr>\n",
       "  </tbody>\n",
       "</table>\n",
       "</div>"
      ],
      "text/plain": [
       "             reg_ts           uid\n",
       "count  1.000000e+06  1.000000e+06\n",
       "mean   1.548332e+09  5.552354e+05\n",
       "std    5.253653e+07  3.206011e+05\n",
       "min    9.113822e+08  1.000000e+00\n",
       "25%    1.528034e+09  2.776438e+05\n",
       "50%    1.564454e+09  5.550455e+05\n",
       "75%    1.585759e+09  8.329712e+05\n",
       "max    1.600874e+09  1.110622e+06"
      ]
     },
     "execution_count": 10,
     "metadata": {},
     "output_type": "execute_result"
    }
   ],
   "source": [
    "reg_df.describe()"
   ]
  },
  {
   "cell_type": "code",
   "execution_count": 11,
   "id": "f62f99b6",
   "metadata": {},
   "outputs": [
    {
     "data": {
      "text/plain": [
       "auth_ts    int64\n",
       "uid        int64\n",
       "dtype: object"
      ]
     },
     "execution_count": 11,
     "metadata": {},
     "output_type": "execute_result"
    }
   ],
   "source": [
    "auth_df.dtypes"
   ]
  },
  {
   "cell_type": "code",
   "execution_count": 12,
   "id": "3bbeee48",
   "metadata": {},
   "outputs": [
    {
     "data": {
      "text/plain": [
       "reg_ts    int64\n",
       "uid       int64\n",
       "dtype: object"
      ]
     },
     "execution_count": 12,
     "metadata": {},
     "output_type": "execute_result"
    }
   ],
   "source": [
    "reg_df.dtypes"
   ]
  },
  {
   "cell_type": "markdown",
   "id": "b25a548f",
   "metadata": {},
   "source": [
    "Соеденим датафреймы для дальнейшей обработки и поиска необходимой метрики. Использую тип мерджа - лефт, потому что для рассчета метрики retention нас интересуют только те uid, по которым есть данные в датафрейме с регистрациями"
   ]
  },
  {
   "cell_type": "code",
   "execution_count": 13,
   "id": "68530f56",
   "metadata": {},
   "outputs": [],
   "source": [
    "merged_data = reg_df.merge(auth_df, how='left', on='uid')"
   ]
  },
  {
   "cell_type": "code",
   "execution_count": 14,
   "id": "7f672a73",
   "metadata": {},
   "outputs": [
    {
     "name": "stdout",
     "output_type": "stream",
     "text": [
      "<class 'pandas.core.frame.DataFrame'>\n",
      "Int64Index: 9601013 entries, 0 to 9601012\n",
      "Data columns (total 3 columns):\n",
      " #   Column   Dtype\n",
      "---  ------   -----\n",
      " 0   reg_ts   int64\n",
      " 1   uid      int64\n",
      " 2   auth_ts  int64\n",
      "dtypes: int64(3)\n",
      "memory usage: 293.0 MB\n"
     ]
    }
   ],
   "source": [
    "merged_data.info()"
   ]
  },
  {
   "cell_type": "code",
   "execution_count": 15,
   "id": "f26ee9ab",
   "metadata": {},
   "outputs": [],
   "source": [
    "# Поменяем местами колонки, удобнее работать с данными\n",
    "merged_data = merged_data[['uid', 'reg_ts', 'auth_ts']]"
   ]
  },
  {
   "cell_type": "code",
   "execution_count": 16,
   "id": "0fe1d8eb",
   "metadata": {},
   "outputs": [],
   "source": [
    "# Приведем колонки с датами к верному формату\n",
    "merged_data['reg_ts'] = pd.to_datetime(merged_data['reg_ts'], unit='s')\n",
    "merged_data['auth_ts'] = pd.to_datetime(merged_data['auth_ts'], unit='s')"
   ]
  },
  {
   "cell_type": "markdown",
   "id": "271e99b0",
   "metadata": {},
   "source": [
    "### Наиболее подходящим решением кажется когортный анализ (изучали в промежуточном проекте, как раз на примере RR)"
   ]
  },
  {
   "cell_type": "code",
   "execution_count": 17,
   "id": "bf872f00",
   "metadata": {},
   "outputs": [],
   "source": [
    "# Для рассчета когорт приведем даты регистрации и данные о времени захода в игру к формату год-месяц-день\n",
    "merged_data['auth_ts'] = merged_data['auth_ts'].dt.floor(\"D\")\n",
    "merged_data['reg_ts'] = merged_data['reg_ts'].dt.floor(\"D\")"
   ]
  },
  {
   "cell_type": "code",
   "execution_count": 18,
   "id": "0e2b9370",
   "metadata": {},
   "outputs": [],
   "source": [
    "# Посчитаем разницу между датой регистрации и датой события\n",
    "merged_data['ret_days'] = (merged_data['auth_ts'] - merged_data['reg_ts']).dt.days"
   ]
  },
  {
   "cell_type": "code",
   "execution_count": 19,
   "id": "5f978f30",
   "metadata": {},
   "outputs": [
    {
     "data": {
      "text/html": [
       "<div>\n",
       "<style scoped>\n",
       "    .dataframe tbody tr th:only-of-type {\n",
       "        vertical-align: middle;\n",
       "    }\n",
       "\n",
       "    .dataframe tbody tr th {\n",
       "        vertical-align: top;\n",
       "    }\n",
       "\n",
       "    .dataframe thead th {\n",
       "        text-align: right;\n",
       "    }\n",
       "</style>\n",
       "<table border=\"1\" class=\"dataframe\">\n",
       "  <thead>\n",
       "    <tr style=\"text-align: right;\">\n",
       "      <th></th>\n",
       "      <th>uid</th>\n",
       "      <th>reg_ts</th>\n",
       "      <th>auth_ts</th>\n",
       "      <th>ret_days</th>\n",
       "    </tr>\n",
       "  </thead>\n",
       "  <tbody>\n",
       "    <tr>\n",
       "      <th>0</th>\n",
       "      <td>1</td>\n",
       "      <td>1998-11-18</td>\n",
       "      <td>1998-11-18</td>\n",
       "      <td>0</td>\n",
       "    </tr>\n",
       "    <tr>\n",
       "      <th>1</th>\n",
       "      <td>2</td>\n",
       "      <td>1999-07-22</td>\n",
       "      <td>1999-07-22</td>\n",
       "      <td>0</td>\n",
       "    </tr>\n",
       "    <tr>\n",
       "      <th>2</th>\n",
       "      <td>2</td>\n",
       "      <td>1999-07-22</td>\n",
       "      <td>1999-07-25</td>\n",
       "      <td>3</td>\n",
       "    </tr>\n",
       "    <tr>\n",
       "      <th>3</th>\n",
       "      <td>2</td>\n",
       "      <td>1999-07-22</td>\n",
       "      <td>1999-07-31</td>\n",
       "      <td>9</td>\n",
       "    </tr>\n",
       "    <tr>\n",
       "      <th>4</th>\n",
       "      <td>2</td>\n",
       "      <td>1999-07-22</td>\n",
       "      <td>1999-08-05</td>\n",
       "      <td>14</td>\n",
       "    </tr>\n",
       "    <tr>\n",
       "      <th>...</th>\n",
       "      <td>...</td>\n",
       "      <td>...</td>\n",
       "      <td>...</td>\n",
       "      <td>...</td>\n",
       "    </tr>\n",
       "    <tr>\n",
       "      <th>9601008</th>\n",
       "      <td>1110618</td>\n",
       "      <td>2020-09-23</td>\n",
       "      <td>2020-09-23</td>\n",
       "      <td>0</td>\n",
       "    </tr>\n",
       "    <tr>\n",
       "      <th>9601009</th>\n",
       "      <td>1110619</td>\n",
       "      <td>2020-09-23</td>\n",
       "      <td>2020-09-23</td>\n",
       "      <td>0</td>\n",
       "    </tr>\n",
       "    <tr>\n",
       "      <th>9601010</th>\n",
       "      <td>1110620</td>\n",
       "      <td>2020-09-23</td>\n",
       "      <td>2020-09-23</td>\n",
       "      <td>0</td>\n",
       "    </tr>\n",
       "    <tr>\n",
       "      <th>9601011</th>\n",
       "      <td>1110621</td>\n",
       "      <td>2020-09-23</td>\n",
       "      <td>2020-09-23</td>\n",
       "      <td>0</td>\n",
       "    </tr>\n",
       "    <tr>\n",
       "      <th>9601012</th>\n",
       "      <td>1110622</td>\n",
       "      <td>2020-09-23</td>\n",
       "      <td>2020-09-23</td>\n",
       "      <td>0</td>\n",
       "    </tr>\n",
       "  </tbody>\n",
       "</table>\n",
       "<p>9601013 rows × 4 columns</p>\n",
       "</div>"
      ],
      "text/plain": [
       "             uid     reg_ts    auth_ts  ret_days\n",
       "0              1 1998-11-18 1998-11-18         0\n",
       "1              2 1999-07-22 1999-07-22         0\n",
       "2              2 1999-07-22 1999-07-25         3\n",
       "3              2 1999-07-22 1999-07-31         9\n",
       "4              2 1999-07-22 1999-08-05        14\n",
       "...          ...        ...        ...       ...\n",
       "9601008  1110618 2020-09-23 2020-09-23         0\n",
       "9601009  1110619 2020-09-23 2020-09-23         0\n",
       "9601010  1110620 2020-09-23 2020-09-23         0\n",
       "9601011  1110621 2020-09-23 2020-09-23         0\n",
       "9601012  1110622 2020-09-23 2020-09-23         0\n",
       "\n",
       "[9601013 rows x 4 columns]"
      ]
     },
     "execution_count": 19,
     "metadata": {},
     "output_type": "execute_result"
    }
   ],
   "source": [
    "merged_data"
   ]
  },
  {
   "cell_type": "markdown",
   "id": "5c7143d9",
   "metadata": {},
   "source": [
    "## Соберем функцию, которая будет считать метрику и отображать когортный анализ по ней в зависимости от заданных параметров. Данная функция считает количество в процентах"
   ]
  },
  {
   "cell_type": "code",
   "execution_count": 36,
   "id": "a5a7d7d0",
   "metadata": {},
   "outputs": [],
   "source": [
    "def retention_rate(reg_df, auth_df, start, end, amount_days):\n",
    "    # где reg_df, auth_df - датафреймы с данными регистрации и входа в игру, start и end период \n",
    "    # за который исследуем данные. Датафрейм с 10 млн строк, добавим возможность расчета RR за период. \n",
    "    # amount_days - количесвто дней за которые хотим посчитать метрику\n",
    "   \n",
    "    # Приведем даты и диапазон к нужному виду\n",
    "    start = pd.to_datetime(start)\n",
    "    end = pd.to_datetime(end)\n",
    "    amount_days = int(amount_days)\n",
    "     \n",
    "    # Соеденим датафреймы для дальнейшей обработки и поиска необходимой метрики. \n",
    "    # Использую тип мерджа - лефт, потому что для рассчета метрики retention нас \n",
    "    # интересуют только те uid, по которым есть данные в датафрейме с регистрациями\n",
    "    merge_data = pd.merge(auth_df, reg_df, on='uid', how='left')\n",
    "    \n",
    "    # Приведем колонки с датами к верному формату\n",
    "    merge_data['auth_ts'] = pd.to_datetime(merge_data['auth_ts'], unit='s').dt.floor(\"D\")\n",
    "    merge_data['reg_ts'] = pd.to_datetime(merge_data['reg_ts'], unit='s').dt.floor(\"D\")    \n",
    "    \n",
    "    # Cоздаем столбец с количеством дней, прошедших с регистрации до входа в игру\n",
    "    merge_data['days'] = (merge_data['auth_ts'] - merge_data['reg_ts']).dt.days\n",
    "    \n",
    "    # Приведем данные к нужному диапазону\n",
    "    merge_data = merge_data[(merge_data['reg_ts'] >= start) &\n",
    "                            (merge_data['reg_ts'] <= end) &\n",
    "                            (merge_data['days'] <= amount_days)] \n",
    "\n",
    "    # Рассчитаем количество зарегестрированных пользователей по каждому дню\n",
    "    retention_df = merge_data.groupby(['reg_ts', 'days']).agg(users=('uid', 'nunique')).reset_index()\n",
    "\n",
    "    # Соберем данные в сводную таблицу\n",
    "    pivot_retention = retention_df.pivot(index='reg_ts', columns='days', values='users').fillna(0).astype(int)\n",
    "                      \n",
    "    # Обозначим значение когорт, и поделим поэлементно значения в итоговой таблице на когорты\n",
    "    cohort = pivot_retention.iloc[:, 0]\n",
    "    retention = pivot_retention.divide(cohort, axis=0)\n",
    "    retention[0] = cohort\n",
    "    \n",
    "    # Переименуем колонки для более удобного восприятия\n",
    "    retention = retention.reset_index().rename(columns={0: 'users'}).set_index(['reg_ts', 'users'])\n",
    "    \n",
    "    # Настроим стиль отображения таблицы, чуть увеличим размер для лучшего чтения информации\n",
    "    styles = [\n",
    "        dict(selector=\"table\", props=[(\"font-size\", \"120%\")]),\n",
    "        dict(selector=\"th\", props=[(\"font-size\", \"120%\")]),\n",
    "        dict(selector=\"td\", props=[(\"font-size\", \"120%\")]),\n",
    "    ]\n",
    "    \n",
    "    # Для более удобного восприятия картины, оформим всю таблицу в цетовой схеме, с отображением вместо значений\n",
    "    # проценты Retantion\n",
    "    retention = retention.iloc[:, 1:].style. \\\n",
    "        background_gradient(axis=None, cmap='coolwarm').format(\"{:.1%}\").highlight_null('white')\n",
    "    \n",
    "    return retention.set_table_styles(styles)"
   ]
  },
  {
   "cell_type": "code",
   "execution_count": 37,
   "id": "a57f2ee2",
   "metadata": {},
   "outputs": [
    {
     "data": {
      "text/html": [
       "<style type=\"text/css\">\n",
       "#T_ab9b3 table {\n",
       "  font-size: 120%;\n",
       "}\n",
       "#T_ab9b3 th {\n",
       "  font-size: 120%;\n",
       "}\n",
       "#T_ab9b3 td {\n",
       "  font-size: 120%;\n",
       "}\n",
       "#T_ab9b3_row0_col0, #T_ab9b3_row0_col6, #T_ab9b3_row1_col7, #T_ab9b3_row12_col0 {\n",
       "  background-color: #d7dce3;\n",
       "  color: #000000;\n",
       "}\n",
       "#T_ab9b3_row0_col1, #T_ab9b3_row9_col2 {\n",
       "  background-color: #dbdcde;\n",
       "  color: #000000;\n",
       "}\n",
       "#T_ab9b3_row0_col2 {\n",
       "  background-color: #e6d7cf;\n",
       "  color: #000000;\n",
       "}\n",
       "#T_ab9b3_row0_col3, #T_ab9b3_row0_col5 {\n",
       "  background-color: #f4987a;\n",
       "  color: #000000;\n",
       "}\n",
       "#T_ab9b3_row0_col4, #T_ab9b3_row5_col2, #T_ab9b3_row6_col7 {\n",
       "  background-color: #f7ba9f;\n",
       "  color: #000000;\n",
       "}\n",
       "#T_ab9b3_row0_col7, #T_ab9b3_row5_col1 {\n",
       "  background-color: #f5c1a9;\n",
       "  color: #000000;\n",
       "}\n",
       "#T_ab9b3_row0_col8 {\n",
       "  background-color: #f1ccb8;\n",
       "  color: #000000;\n",
       "}\n",
       "#T_ab9b3_row1_col0 {\n",
       "  background-color: #d1dae9;\n",
       "  color: #000000;\n",
       "}\n",
       "#T_ab9b3_row1_col1, #T_ab9b3_row8_col1, #T_ab9b3_row10_col7, #T_ab9b3_row11_col2 {\n",
       "  background-color: #e8d6cc;\n",
       "  color: #000000;\n",
       "}\n",
       "#T_ab9b3_row1_col2, #T_ab9b3_row1_col8, #T_ab9b3_row3_col8, #T_ab9b3_row9_col8, #T_ab9b3_row10_col2, #T_ab9b3_row14_col5 {\n",
       "  background-color: #f7b99e;\n",
       "  color: #000000;\n",
       "}\n",
       "#T_ab9b3_row1_col3 {\n",
       "  background-color: #f6a283;\n",
       "  color: #000000;\n",
       "}\n",
       "#T_ab9b3_row1_col4 {\n",
       "  background-color: #e7745b;\n",
       "  color: #f1f1f1;\n",
       "}\n",
       "#T_ab9b3_row1_col5, #T_ab9b3_row2_col7, #T_ab9b3_row13_col5 {\n",
       "  background-color: #f59f80;\n",
       "  color: #000000;\n",
       "}\n",
       "#T_ab9b3_row1_col6, #T_ab9b3_row7_col2, #T_ab9b3_row9_col6 {\n",
       "  background-color: #edd2c3;\n",
       "  color: #000000;\n",
       "}\n",
       "#T_ab9b3_row2_col0, #T_ab9b3_row10_col8 {\n",
       "  background-color: #f5c2aa;\n",
       "  color: #000000;\n",
       "}\n",
       "#T_ab9b3_row2_col1, #T_ab9b3_row11_col1 {\n",
       "  background-color: #ead5c9;\n",
       "  color: #000000;\n",
       "}\n",
       "#T_ab9b3_row2_col2 {\n",
       "  background-color: #f39475;\n",
       "  color: #000000;\n",
       "}\n",
       "#T_ab9b3_row2_col3 {\n",
       "  background-color: #eb7d62;\n",
       "  color: #f1f1f1;\n",
       "}\n",
       "#T_ab9b3_row2_col4 {\n",
       "  background-color: #b40426;\n",
       "  color: #f1f1f1;\n",
       "}\n",
       "#T_ab9b3_row2_col5, #T_ab9b3_row2_col8, #T_ab9b3_row6_col3 {\n",
       "  background-color: #f59c7d;\n",
       "  color: #000000;\n",
       "}\n",
       "#T_ab9b3_row2_col6, #T_ab9b3_row4_col2, #T_ab9b3_row4_col7 {\n",
       "  background-color: #f5c0a7;\n",
       "  color: #000000;\n",
       "}\n",
       "#T_ab9b3_row3_col0, #T_ab9b3_row3_col1 {\n",
       "  background-color: #c9d7f0;\n",
       "  color: #000000;\n",
       "}\n",
       "#T_ab9b3_row3_col2, #T_ab9b3_row7_col6, #T_ab9b3_row7_col7, #T_ab9b3_row11_col7 {\n",
       "  background-color: #f2cab5;\n",
       "  color: #000000;\n",
       "}\n",
       "#T_ab9b3_row3_col3 {\n",
       "  background-color: #f49a7b;\n",
       "  color: #000000;\n",
       "}\n",
       "#T_ab9b3_row3_col4, #T_ab9b3_row6_col4 {\n",
       "  background-color: #e36b54;\n",
       "  color: #f1f1f1;\n",
       "}\n",
       "#T_ab9b3_row3_col5, #T_ab9b3_row12_col5, #T_ab9b3_row12_col7 {\n",
       "  background-color: #efcfbf;\n",
       "  color: #000000;\n",
       "}\n",
       "#T_ab9b3_row3_col6, #T_ab9b3_row13_col2 {\n",
       "  background-color: #f4c5ad;\n",
       "  color: #000000;\n",
       "}\n",
       "#T_ab9b3_row3_col7, #T_ab9b3_row5_col0 {\n",
       "  background-color: #dedcdb;\n",
       "  color: #000000;\n",
       "}\n",
       "#T_ab9b3_row4_col0 {\n",
       "  background-color: #d3dbe7;\n",
       "  color: #000000;\n",
       "}\n",
       "#T_ab9b3_row4_col1 {\n",
       "  background-color: #e7d7ce;\n",
       "  color: #000000;\n",
       "}\n",
       "#T_ab9b3_row4_col3, #T_ab9b3_row5_col3 {\n",
       "  background-color: #f7b093;\n",
       "  color: #000000;\n",
       "}\n",
       "#T_ab9b3_row4_col4 {\n",
       "  background-color: #de614d;\n",
       "  color: #f1f1f1;\n",
       "}\n",
       "#T_ab9b3_row4_col5, #T_ab9b3_row5_col8 {\n",
       "  background-color: #edd1c2;\n",
       "  color: #000000;\n",
       "}\n",
       "#T_ab9b3_row4_col6, #T_ab9b3_row6_col2 {\n",
       "  background-color: #f1cdba;\n",
       "  color: #000000;\n",
       "}\n",
       "#T_ab9b3_row4_col8, #T_ab9b3_row14_col2 {\n",
       "  background-color: #f7aa8c;\n",
       "  color: #000000;\n",
       "}\n",
       "#T_ab9b3_row5_col4 {\n",
       "  background-color: #ee8468;\n",
       "  color: #f1f1f1;\n",
       "}\n",
       "#T_ab9b3_row5_col5, #T_ab9b3_row11_col3 {\n",
       "  background-color: #f7a98b;\n",
       "  color: #000000;\n",
       "}\n",
       "#T_ab9b3_row5_col6 {\n",
       "  background-color: #f7b396;\n",
       "  color: #000000;\n",
       "}\n",
       "#T_ab9b3_row5_col7 {\n",
       "  background-color: #f6bfa6;\n",
       "  color: #000000;\n",
       "}\n",
       "#T_ab9b3_row6_col0, #T_ab9b3_row12_col1 {\n",
       "  background-color: #dcdddd;\n",
       "  color: #000000;\n",
       "}\n",
       "#T_ab9b3_row6_col1 {\n",
       "  background-color: #f5c4ac;\n",
       "  color: #000000;\n",
       "}\n",
       "#T_ab9b3_row6_col5, #T_ab9b3_row11_col6 {\n",
       "  background-color: #f3c7b1;\n",
       "  color: #000000;\n",
       "}\n",
       "#T_ab9b3_row6_col6 {\n",
       "  background-color: #d8dce2;\n",
       "  color: #000000;\n",
       "}\n",
       "#T_ab9b3_row6_col8 {\n",
       "  background-color: #f7ac8e;\n",
       "  color: #000000;\n",
       "}\n",
       "#T_ab9b3_row7_col0, #T_ab9b3_row7_col1 {\n",
       "  background-color: #d2dbe8;\n",
       "  color: #000000;\n",
       "}\n",
       "#T_ab9b3_row7_col3 {\n",
       "  background-color: #d95847;\n",
       "  color: #f1f1f1;\n",
       "}\n",
       "#T_ab9b3_row7_col4 {\n",
       "  background-color: #dc5d4a;\n",
       "  color: #f1f1f1;\n",
       "}\n",
       "#T_ab9b3_row7_col5 {\n",
       "  background-color: #f29072;\n",
       "  color: #f1f1f1;\n",
       "}\n",
       "#T_ab9b3_row7_col8, #T_ab9b3_row11_col4, #T_ab9b3_row12_col3 {\n",
       "  background-color: #f29274;\n",
       "  color: #f1f1f1;\n",
       "}\n",
       "#T_ab9b3_row8_col0 {\n",
       "  background-color: #b9d0f9;\n",
       "  color: #000000;\n",
       "}\n",
       "#T_ab9b3_row8_col2, #T_ab9b3_row8_col4 {\n",
       "  background-color: #f7b79b;\n",
       "  color: #000000;\n",
       "}\n",
       "#T_ab9b3_row8_col3 {\n",
       "  background-color: #f18d6f;\n",
       "  color: #f1f1f1;\n",
       "}\n",
       "#T_ab9b3_row8_col5 {\n",
       "  background-color: #f7af91;\n",
       "  color: #000000;\n",
       "}\n",
       "#T_ab9b3_row8_col6 {\n",
       "  background-color: #dfdbd9;\n",
       "  color: #000000;\n",
       "}\n",
       "#T_ab9b3_row8_col7 {\n",
       "  background-color: #f0cdbb;\n",
       "  color: #000000;\n",
       "}\n",
       "#T_ab9b3_row8_col8 {\n",
       "  background-color: #cbd8ee;\n",
       "  color: #000000;\n",
       "}\n",
       "#T_ab9b3_row9_col0 {\n",
       "  background-color: #dddcdc;\n",
       "  color: #000000;\n",
       "}\n",
       "#T_ab9b3_row9_col1 {\n",
       "  background-color: #ebd3c6;\n",
       "  color: #000000;\n",
       "}\n",
       "#T_ab9b3_row9_col3 {\n",
       "  background-color: #ef886b;\n",
       "  color: #f1f1f1;\n",
       "}\n",
       "#T_ab9b3_row9_col4 {\n",
       "  background-color: #f5a081;\n",
       "  color: #000000;\n",
       "}\n",
       "#T_ab9b3_row9_col5 {\n",
       "  background-color: #e8765c;\n",
       "  color: #f1f1f1;\n",
       "}\n",
       "#T_ab9b3_row9_col7, #T_ab9b3_row10_col1, #T_ab9b3_row13_col1 {\n",
       "  background-color: #e4d9d2;\n",
       "  color: #000000;\n",
       "}\n",
       "#T_ab9b3_row10_col0 {\n",
       "  background-color: #d5dbe5;\n",
       "  color: #000000;\n",
       "}\n",
       "#T_ab9b3_row10_col3, #T_ab9b3_row11_col8 {\n",
       "  background-color: #f7b89c;\n",
       "  color: #000000;\n",
       "}\n",
       "#T_ab9b3_row10_col4 {\n",
       "  background-color: #f08b6e;\n",
       "  color: #f1f1f1;\n",
       "}\n",
       "#T_ab9b3_row10_col5 {\n",
       "  background-color: #f59d7e;\n",
       "  color: #000000;\n",
       "}\n",
       "#T_ab9b3_row10_col6 {\n",
       "  background-color: #e0dbd8;\n",
       "  color: #000000;\n",
       "}\n",
       "#T_ab9b3_row11_col0 {\n",
       "  background-color: #cfdaea;\n",
       "  color: #000000;\n",
       "}\n",
       "#T_ab9b3_row11_col5 {\n",
       "  background-color: #f7b599;\n",
       "  color: #000000;\n",
       "}\n",
       "#T_ab9b3_row12_col2 {\n",
       "  background-color: #f2cbb7;\n",
       "  color: #000000;\n",
       "}\n",
       "#T_ab9b3_row12_col4, #T_ab9b3_row13_col3 {\n",
       "  background-color: #f39577;\n",
       "  color: #000000;\n",
       "}\n",
       "#T_ab9b3_row12_col6 {\n",
       "  background-color: #e9d5cb;\n",
       "  color: #000000;\n",
       "}\n",
       "#T_ab9b3_row12_col8 {\n",
       "  background-color: #c6d6f1;\n",
       "  color: #000000;\n",
       "}\n",
       "#T_ab9b3_row13_col0 {\n",
       "  background-color: #cedaeb;\n",
       "  color: #000000;\n",
       "}\n",
       "#T_ab9b3_row13_col4 {\n",
       "  background-color: #ea7b60;\n",
       "  color: #f1f1f1;\n",
       "}\n",
       "#T_ab9b3_row13_col6 {\n",
       "  background-color: #e2dad5;\n",
       "  color: #000000;\n",
       "}\n",
       "#T_ab9b3_row13_col7 {\n",
       "  background-color: #abc8fd;\n",
       "  color: #000000;\n",
       "}\n",
       "#T_ab9b3_row13_col8, #T_ab9b3_row14_col7, #T_ab9b3_row14_col8 {\n",
       "  background-color: #3b4cc0;\n",
       "  color: #f1f1f1;\n",
       "}\n",
       "#T_ab9b3_row14_col0 {\n",
       "  background-color: #d6dce4;\n",
       "  color: #000000;\n",
       "}\n",
       "#T_ab9b3_row14_col1 {\n",
       "  background-color: #e5d8d1;\n",
       "  color: #000000;\n",
       "}\n",
       "#T_ab9b3_row14_col3 {\n",
       "  background-color: #f7bca1;\n",
       "  color: #000000;\n",
       "}\n",
       "#T_ab9b3_row14_col4 {\n",
       "  background-color: #ec8165;\n",
       "  color: #f1f1f1;\n",
       "}\n",
       "#T_ab9b3_row14_col6 {\n",
       "  background-color: #9abbff;\n",
       "  color: #000000;\n",
       "}\n",
       "</style>\n",
       "<table id=\"T_ab9b3\">\n",
       "  <thead>\n",
       "    <tr>\n",
       "      <th class=\"blank\" >&nbsp;</th>\n",
       "      <th class=\"index_name level0\" >days</th>\n",
       "      <th id=\"T_ab9b3_level0_col0\" class=\"col_heading level0 col0\" >2</th>\n",
       "      <th id=\"T_ab9b3_level0_col1\" class=\"col_heading level0 col1\" >3</th>\n",
       "      <th id=\"T_ab9b3_level0_col2\" class=\"col_heading level0 col2\" >4</th>\n",
       "      <th id=\"T_ab9b3_level0_col3\" class=\"col_heading level0 col3\" >5</th>\n",
       "      <th id=\"T_ab9b3_level0_col4\" class=\"col_heading level0 col4\" >6</th>\n",
       "      <th id=\"T_ab9b3_level0_col5\" class=\"col_heading level0 col5\" >7</th>\n",
       "      <th id=\"T_ab9b3_level0_col6\" class=\"col_heading level0 col6\" >8</th>\n",
       "      <th id=\"T_ab9b3_level0_col7\" class=\"col_heading level0 col7\" >9</th>\n",
       "      <th id=\"T_ab9b3_level0_col8\" class=\"col_heading level0 col8\" >10</th>\n",
       "    </tr>\n",
       "    <tr>\n",
       "      <th class=\"index_name level0\" >reg_ts</th>\n",
       "      <th class=\"index_name level1\" >users</th>\n",
       "      <th class=\"blank col0\" >&nbsp;</th>\n",
       "      <th class=\"blank col1\" >&nbsp;</th>\n",
       "      <th class=\"blank col2\" >&nbsp;</th>\n",
       "      <th class=\"blank col3\" >&nbsp;</th>\n",
       "      <th class=\"blank col4\" >&nbsp;</th>\n",
       "      <th class=\"blank col5\" >&nbsp;</th>\n",
       "      <th class=\"blank col6\" >&nbsp;</th>\n",
       "      <th class=\"blank col7\" >&nbsp;</th>\n",
       "      <th class=\"blank col8\" >&nbsp;</th>\n",
       "    </tr>\n",
       "  </thead>\n",
       "  <tbody>\n",
       "    <tr>\n",
       "      <th id=\"T_ab9b3_level0_row0\" class=\"row_heading level0 row0\" >2020-09-01 00:00:00</th>\n",
       "      <th id=\"T_ab9b3_level1_row0\" class=\"row_heading level1 row0\" >1586</th>\n",
       "      <td id=\"T_ab9b3_row0_col0\" class=\"data row0 col0\" >4.1%</td>\n",
       "      <td id=\"T_ab9b3_row0_col1\" class=\"data row0 col1\" >4.2%</td>\n",
       "      <td id=\"T_ab9b3_row0_col2\" class=\"data row0 col2\" >4.6%</td>\n",
       "      <td id=\"T_ab9b3_row0_col3\" class=\"data row0 col3\" >6.4%</td>\n",
       "      <td id=\"T_ab9b3_row0_col4\" class=\"data row0 col4\" >5.6%</td>\n",
       "      <td id=\"T_ab9b3_row0_col5\" class=\"data row0 col5\" >6.4%</td>\n",
       "      <td id=\"T_ab9b3_row0_col6\" class=\"data row0 col6\" >4.1%</td>\n",
       "      <td id=\"T_ab9b3_row0_col7\" class=\"data row0 col7\" >5.4%</td>\n",
       "      <td id=\"T_ab9b3_row0_col8\" class=\"data row0 col8\" >5.1%</td>\n",
       "    </tr>\n",
       "    <tr>\n",
       "      <th id=\"T_ab9b3_level0_row1\" class=\"row_heading level0 row1\" >2020-09-02 00:00:00</th>\n",
       "      <th id=\"T_ab9b3_level1_row1\" class=\"row_heading level1 row1\" >1588</th>\n",
       "      <td id=\"T_ab9b3_row1_col0\" class=\"data row1 col0\" >3.9%</td>\n",
       "      <td id=\"T_ab9b3_row1_col1\" class=\"data row1 col1\" >4.7%</td>\n",
       "      <td id=\"T_ab9b3_row1_col2\" class=\"data row1 col2\" >5.7%</td>\n",
       "      <td id=\"T_ab9b3_row1_col3\" class=\"data row1 col3\" >6.2%</td>\n",
       "      <td id=\"T_ab9b3_row1_col4\" class=\"data row1 col4\" >7.1%</td>\n",
       "      <td id=\"T_ab9b3_row1_col5\" class=\"data row1 col5\" >6.3%</td>\n",
       "      <td id=\"T_ab9b3_row1_col6\" class=\"data row1 col6\" >4.8%</td>\n",
       "      <td id=\"T_ab9b3_row1_col7\" class=\"data row1 col7\" >4.1%</td>\n",
       "      <td id=\"T_ab9b3_row1_col8\" class=\"data row1 col8\" >5.7%</td>\n",
       "    </tr>\n",
       "    <tr>\n",
       "      <th id=\"T_ab9b3_level0_row2\" class=\"row_heading level0 row2\" >2020-09-03 00:00:00</th>\n",
       "      <th id=\"T_ab9b3_level1_row2\" class=\"row_heading level1 row2\" >1591</th>\n",
       "      <td id=\"T_ab9b3_row2_col0\" class=\"data row2 col0\" >5.4%</td>\n",
       "      <td id=\"T_ab9b3_row2_col1\" class=\"data row2 col1\" >4.7%</td>\n",
       "      <td id=\"T_ab9b3_row2_col2\" class=\"data row2 col2\" >6.5%</td>\n",
       "      <td id=\"T_ab9b3_row2_col3\" class=\"data row2 col3\" >7.0%</td>\n",
       "      <td id=\"T_ab9b3_row2_col4\" class=\"data row2 col4\" >8.5%</td>\n",
       "      <td id=\"T_ab9b3_row2_col5\" class=\"data row2 col5\" >6.3%</td>\n",
       "      <td id=\"T_ab9b3_row2_col6\" class=\"data row2 col6\" >5.5%</td>\n",
       "      <td id=\"T_ab9b3_row2_col7\" class=\"data row2 col7\" >6.3%</td>\n",
       "      <td id=\"T_ab9b3_row2_col8\" class=\"data row2 col8\" >6.3%</td>\n",
       "    </tr>\n",
       "    <tr>\n",
       "      <th id=\"T_ab9b3_level0_row3\" class=\"row_heading level0 row3\" >2020-09-04 00:00:00</th>\n",
       "      <th id=\"T_ab9b3_level1_row3\" class=\"row_heading level1 row3\" >1593</th>\n",
       "      <td id=\"T_ab9b3_row3_col0\" class=\"data row3 col0\" >3.6%</td>\n",
       "      <td id=\"T_ab9b3_row3_col1\" class=\"data row3 col1\" >3.6%</td>\n",
       "      <td id=\"T_ab9b3_row3_col2\" class=\"data row3 col2\" >5.1%</td>\n",
       "      <td id=\"T_ab9b3_row3_col3\" class=\"data row3 col3\" >6.4%</td>\n",
       "      <td id=\"T_ab9b3_row3_col4\" class=\"data row3 col4\" >7.3%</td>\n",
       "      <td id=\"T_ab9b3_row3_col5\" class=\"data row3 col5\" >5.0%</td>\n",
       "      <td id=\"T_ab9b3_row3_col6\" class=\"data row3 col6\" >5.3%</td>\n",
       "      <td id=\"T_ab9b3_row3_col7\" class=\"data row3 col7\" >4.3%</td>\n",
       "      <td id=\"T_ab9b3_row3_col8\" class=\"data row3 col8\" >5.6%</td>\n",
       "    </tr>\n",
       "    <tr>\n",
       "      <th id=\"T_ab9b3_level0_row4\" class=\"row_heading level0 row4\" >2020-09-05 00:00:00</th>\n",
       "      <th id=\"T_ab9b3_level1_row4\" class=\"row_heading level1 row4\" >1596</th>\n",
       "      <td id=\"T_ab9b3_row4_col0\" class=\"data row4 col0\" >3.9%</td>\n",
       "      <td id=\"T_ab9b3_row4_col1\" class=\"data row4 col1\" >4.6%</td>\n",
       "      <td id=\"T_ab9b3_row4_col2\" class=\"data row4 col2\" >5.5%</td>\n",
       "      <td id=\"T_ab9b3_row4_col3\" class=\"data row4 col3\" >5.9%</td>\n",
       "      <td id=\"T_ab9b3_row4_col4\" class=\"data row4 col4\" >7.5%</td>\n",
       "      <td id=\"T_ab9b3_row4_col5\" class=\"data row4 col5\" >4.9%</td>\n",
       "      <td id=\"T_ab9b3_row4_col6\" class=\"data row4 col6\" >5.1%</td>\n",
       "      <td id=\"T_ab9b3_row4_col7\" class=\"data row4 col7\" >5.5%</td>\n",
       "      <td id=\"T_ab9b3_row4_col8\" class=\"data row4 col8\" >6.0%</td>\n",
       "    </tr>\n",
       "    <tr>\n",
       "      <th id=\"T_ab9b3_level0_row5\" class=\"row_heading level0 row5\" >2020-09-06 00:00:00</th>\n",
       "      <th id=\"T_ab9b3_level1_row5\" class=\"row_heading level1 row5\" >1599</th>\n",
       "      <td id=\"T_ab9b3_row5_col0\" class=\"data row5 col0\" >4.3%</td>\n",
       "      <td id=\"T_ab9b3_row5_col1\" class=\"data row5 col1\" >5.4%</td>\n",
       "      <td id=\"T_ab9b3_row5_col2\" class=\"data row5 col2\" >5.6%</td>\n",
       "      <td id=\"T_ab9b3_row5_col3\" class=\"data row5 col3\" >5.9%</td>\n",
       "      <td id=\"T_ab9b3_row5_col4\" class=\"data row5 col4\" >6.8%</td>\n",
       "      <td id=\"T_ab9b3_row5_col5\" class=\"data row5 col5\" >6.1%</td>\n",
       "      <td id=\"T_ab9b3_row5_col6\" class=\"data row5 col6\" >5.8%</td>\n",
       "      <td id=\"T_ab9b3_row5_col7\" class=\"data row5 col7\" >5.5%</td>\n",
       "      <td id=\"T_ab9b3_row5_col8\" class=\"data row5 col8\" >4.9%</td>\n",
       "    </tr>\n",
       "    <tr>\n",
       "      <th id=\"T_ab9b3_level0_row6\" class=\"row_heading level0 row6\" >2020-09-07 00:00:00</th>\n",
       "      <th id=\"T_ab9b3_level1_row6\" class=\"row_heading level1 row6\" >1601</th>\n",
       "      <td id=\"T_ab9b3_row6_col0\" class=\"data row6 col0\" >4.2%</td>\n",
       "      <td id=\"T_ab9b3_row6_col1\" class=\"data row6 col1\" >5.4%</td>\n",
       "      <td id=\"T_ab9b3_row6_col2\" class=\"data row6 col2\" >5.1%</td>\n",
       "      <td id=\"T_ab9b3_row6_col3\" class=\"data row6 col3\" >6.4%</td>\n",
       "      <td id=\"T_ab9b3_row6_col4\" class=\"data row6 col4\" >7.3%</td>\n",
       "      <td id=\"T_ab9b3_row6_col5\" class=\"data row6 col5\" >5.2%</td>\n",
       "      <td id=\"T_ab9b3_row6_col6\" class=\"data row6 col6\" >4.1%</td>\n",
       "      <td id=\"T_ab9b3_row6_col7\" class=\"data row6 col7\" >5.6%</td>\n",
       "      <td id=\"T_ab9b3_row6_col8\" class=\"data row6 col8\" >6.0%</td>\n",
       "    </tr>\n",
       "    <tr>\n",
       "      <th id=\"T_ab9b3_level0_row7\" class=\"row_heading level0 row7\" >2020-09-08 00:00:00</th>\n",
       "      <th id=\"T_ab9b3_level1_row7\" class=\"row_heading level1 row7\" >1604</th>\n",
       "      <td id=\"T_ab9b3_row7_col0\" class=\"data row7 col0\" >3.9%</td>\n",
       "      <td id=\"T_ab9b3_row7_col1\" class=\"data row7 col1\" >3.9%</td>\n",
       "      <td id=\"T_ab9b3_row7_col2\" class=\"data row7 col2\" >4.9%</td>\n",
       "      <td id=\"T_ab9b3_row7_col3\" class=\"data row7 col3\" >7.6%</td>\n",
       "      <td id=\"T_ab9b3_row7_col4\" class=\"data row7 col4\" >7.5%</td>\n",
       "      <td id=\"T_ab9b3_row7_col5\" class=\"data row7 col5\" >6.6%</td>\n",
       "      <td id=\"T_ab9b3_row7_col6\" class=\"data row7 col6\" >5.2%</td>\n",
       "      <td id=\"T_ab9b3_row7_col7\" class=\"data row7 col7\" >5.2%</td>\n",
       "      <td id=\"T_ab9b3_row7_col8\" class=\"data row7 col8\" >6.5%</td>\n",
       "    </tr>\n",
       "    <tr>\n",
       "      <th id=\"T_ab9b3_level0_row8\" class=\"row_heading level0 row8\" >2020-09-09 00:00:00</th>\n",
       "      <th id=\"T_ab9b3_level1_row8\" class=\"row_heading level1 row8\" >1607</th>\n",
       "      <td id=\"T_ab9b3_row8_col0\" class=\"data row8 col0\" >3.2%</td>\n",
       "      <td id=\"T_ab9b3_row8_col1\" class=\"data row8 col1\" >4.7%</td>\n",
       "      <td id=\"T_ab9b3_row8_col2\" class=\"data row8 col2\" >5.7%</td>\n",
       "      <td id=\"T_ab9b3_row8_col3\" class=\"data row8 col3\" >6.7%</td>\n",
       "      <td id=\"T_ab9b3_row8_col4\" class=\"data row8 col4\" >5.7%</td>\n",
       "      <td id=\"T_ab9b3_row8_col5\" class=\"data row8 col5\" >5.9%</td>\n",
       "      <td id=\"T_ab9b3_row8_col6\" class=\"data row8 col6\" >4.4%</td>\n",
       "      <td id=\"T_ab9b3_row8_col7\" class=\"data row8 col7\" >5.0%</td>\n",
       "      <td id=\"T_ab9b3_row8_col8\" class=\"data row8 col8\" >3.7%</td>\n",
       "    </tr>\n",
       "    <tr>\n",
       "      <th id=\"T_ab9b3_level0_row9\" class=\"row_heading level0 row9\" >2020-09-10 00:00:00</th>\n",
       "      <th id=\"T_ab9b3_level1_row9\" class=\"row_heading level1 row9\" >1609</th>\n",
       "      <td id=\"T_ab9b3_row9_col0\" class=\"data row9 col0\" >4.3%</td>\n",
       "      <td id=\"T_ab9b3_row9_col1\" class=\"data row9 col1\" >4.8%</td>\n",
       "      <td id=\"T_ab9b3_row9_col2\" class=\"data row9 col2\" >4.2%</td>\n",
       "      <td id=\"T_ab9b3_row9_col3\" class=\"data row9 col3\" >6.8%</td>\n",
       "      <td id=\"T_ab9b3_row9_col4\" class=\"data row9 col4\" >6.3%</td>\n",
       "      <td id=\"T_ab9b3_row9_col5\" class=\"data row9 col5\" >7.1%</td>\n",
       "      <td id=\"T_ab9b3_row9_col6\" class=\"data row9 col6\" >4.8%</td>\n",
       "      <td id=\"T_ab9b3_row9_col7\" class=\"data row9 col7\" >4.5%</td>\n",
       "      <td id=\"T_ab9b3_row9_col8\" class=\"data row9 col8\" >5.7%</td>\n",
       "    </tr>\n",
       "    <tr>\n",
       "      <th id=\"T_ab9b3_level0_row10\" class=\"row_heading level0 row10\" >2020-09-11 00:00:00</th>\n",
       "      <th id=\"T_ab9b3_level1_row10\" class=\"row_heading level1 row10\" >1612</th>\n",
       "      <td id=\"T_ab9b3_row10_col0\" class=\"data row10 col0\" >4.0%</td>\n",
       "      <td id=\"T_ab9b3_row10_col1\" class=\"data row10 col1\" >4.5%</td>\n",
       "      <td id=\"T_ab9b3_row10_col2\" class=\"data row10 col2\" >5.6%</td>\n",
       "      <td id=\"T_ab9b3_row10_col3\" class=\"data row10 col3\" >5.7%</td>\n",
       "      <td id=\"T_ab9b3_row10_col4\" class=\"data row10 col4\" >6.7%</td>\n",
       "      <td id=\"T_ab9b3_row10_col5\" class=\"data row10 col5\" >6.3%</td>\n",
       "      <td id=\"T_ab9b3_row10_col6\" class=\"data row10 col6\" >4.4%</td>\n",
       "      <td id=\"T_ab9b3_row10_col7\" class=\"data row10 col7\" >4.7%</td>\n",
       "      <td id=\"T_ab9b3_row10_col8\" class=\"data row10 col8\" >5.4%</td>\n",
       "    </tr>\n",
       "    <tr>\n",
       "      <th id=\"T_ab9b3_level0_row11\" class=\"row_heading level0 row11\" >2020-09-12 00:00:00</th>\n",
       "      <th id=\"T_ab9b3_level1_row11\" class=\"row_heading level1 row11\" >1614</th>\n",
       "      <td id=\"T_ab9b3_row11_col0\" class=\"data row11 col0\" >3.8%</td>\n",
       "      <td id=\"T_ab9b3_row11_col1\" class=\"data row11 col1\" >4.7%</td>\n",
       "      <td id=\"T_ab9b3_row11_col2\" class=\"data row11 col2\" >4.6%</td>\n",
       "      <td id=\"T_ab9b3_row11_col3\" class=\"data row11 col3\" >6.1%</td>\n",
       "      <td id=\"T_ab9b3_row11_col4\" class=\"data row11 col4\" >6.6%</td>\n",
       "      <td id=\"T_ab9b3_row11_col5\" class=\"data row11 col5\" >5.8%</td>\n",
       "      <td id=\"T_ab9b3_row11_col6\" class=\"data row11 col6\" >5.3%</td>\n",
       "      <td id=\"T_ab9b3_row11_col7\" class=\"data row11 col7\" >5.1%</td>\n",
       "      <td id=\"T_ab9b3_row11_col8\" class=\"data row11 col8\" >5.7%</td>\n",
       "    </tr>\n",
       "    <tr>\n",
       "      <th id=\"T_ab9b3_level0_row12\" class=\"row_heading level0 row12\" >2020-09-13 00:00:00</th>\n",
       "      <th id=\"T_ab9b3_level1_row12\" class=\"row_heading level1 row12\" >1618</th>\n",
       "      <td id=\"T_ab9b3_row12_col0\" class=\"data row12 col0\" >4.1%</td>\n",
       "      <td id=\"T_ab9b3_row12_col1\" class=\"data row12 col1\" >4.3%</td>\n",
       "      <td id=\"T_ab9b3_row12_col2\" class=\"data row12 col2\" >5.1%</td>\n",
       "      <td id=\"T_ab9b3_row12_col3\" class=\"data row12 col3\" >6.6%</td>\n",
       "      <td id=\"T_ab9b3_row12_col4\" class=\"data row12 col4\" >6.5%</td>\n",
       "      <td id=\"T_ab9b3_row12_col5\" class=\"data row12 col5\" >4.9%</td>\n",
       "      <td id=\"T_ab9b3_row12_col6\" class=\"data row12 col6\" >4.7%</td>\n",
       "      <td id=\"T_ab9b3_row12_col7\" class=\"data row12 col7\" >4.9%</td>\n",
       "      <td id=\"T_ab9b3_row12_col8\" class=\"data row12 col8\" >3.6%</td>\n",
       "    </tr>\n",
       "    <tr>\n",
       "      <th id=\"T_ab9b3_level0_row13\" class=\"row_heading level0 row13\" >2020-09-14 00:00:00</th>\n",
       "      <th id=\"T_ab9b3_level1_row13\" class=\"row_heading level1 row13\" >1619</th>\n",
       "      <td id=\"T_ab9b3_row13_col0\" class=\"data row13 col0\" >3.8%</td>\n",
       "      <td id=\"T_ab9b3_row13_col1\" class=\"data row13 col1\" >4.5%</td>\n",
       "      <td id=\"T_ab9b3_row13_col2\" class=\"data row13 col2\" >5.3%</td>\n",
       "      <td id=\"T_ab9b3_row13_col3\" class=\"data row13 col3\" >6.5%</td>\n",
       "      <td id=\"T_ab9b3_row13_col4\" class=\"data row13 col4\" >7.0%</td>\n",
       "      <td id=\"T_ab9b3_row13_col5\" class=\"data row13 col5\" >6.3%</td>\n",
       "      <td id=\"T_ab9b3_row13_col6\" class=\"data row13 col6\" >4.4%</td>\n",
       "      <td id=\"T_ab9b3_row13_col7\" class=\"data row13 col7\" >2.9%</td>\n",
       "      <td id=\"T_ab9b3_row13_col8\" class=\"data row13 col8\" >0.0%</td>\n",
       "    </tr>\n",
       "    <tr>\n",
       "      <th id=\"T_ab9b3_level0_row14\" class=\"row_heading level0 row14\" >2020-09-15 00:00:00</th>\n",
       "      <th id=\"T_ab9b3_level1_row14\" class=\"row_heading level1 row14\" >1623</th>\n",
       "      <td id=\"T_ab9b3_row14_col0\" class=\"data row14 col0\" >4.1%</td>\n",
       "      <td id=\"T_ab9b3_row14_col1\" class=\"data row14 col1\" >4.6%</td>\n",
       "      <td id=\"T_ab9b3_row14_col2\" class=\"data row14 col2\" >6.0%</td>\n",
       "      <td id=\"T_ab9b3_row14_col3\" class=\"data row14 col3\" >5.6%</td>\n",
       "      <td id=\"T_ab9b3_row14_col4\" class=\"data row14 col4\" >6.9%</td>\n",
       "      <td id=\"T_ab9b3_row14_col5\" class=\"data row14 col5\" >5.7%</td>\n",
       "      <td id=\"T_ab9b3_row14_col6\" class=\"data row14 col6\" >2.5%</td>\n",
       "      <td id=\"T_ab9b3_row14_col7\" class=\"data row14 col7\" >0.0%</td>\n",
       "      <td id=\"T_ab9b3_row14_col8\" class=\"data row14 col8\" >0.0%</td>\n",
       "    </tr>\n",
       "  </tbody>\n",
       "</table>\n"
      ],
      "text/plain": [
       "<pandas.io.formats.style.Styler at 0x7fee9044f7c0>"
      ]
     },
     "execution_count": 37,
     "metadata": {},
     "output_type": "execute_result"
    }
   ],
   "source": [
    "retention_rate(reg_df, auth_df, '2020-09-01', '2020-09-15', 10)"
   ]
  },
  {
   "cell_type": "markdown",
   "id": "25464bb4",
   "metadata": {},
   "source": [
    "### Функция считает значение RR в процентах. Для отображения количественного показателя необходимо изменить часть кода "
   ]
  },
  {
   "cell_type": "code",
   "execution_count": 42,
   "id": "4c6d71c2",
   "metadata": {},
   "outputs": [],
   "source": [
    "def retention(reg_df, auth_df, start, end, amount_days):\n",
    "    # где reg_df, auth_df - датафреймы с данными регистрации и входа в игру, start и end период \n",
    "    # за который исследуем данные. Датафрейм с 10 млн строк, добавим возможность расчета RR за период. \n",
    "    # amount_days - количесвто дней за которые хотим посчитать метрику\n",
    "   \n",
    "    # Приведем даты и диапазон к нужному виду\n",
    "    start = pd.to_datetime(start)\n",
    "    end = pd.to_datetime(end)\n",
    "    amount_days = int(amount_days)\n",
    "     \n",
    "    # Соеденим датафреймы для дальнейшей обработки и поиска необходимой метрики. \n",
    "    # Использую тип мерджа - лефт, потому что для рассчета метрики retention нас \n",
    "    # интересуют только те uid, по которым есть данные в датафрейме с регистрациями\n",
    "    merge_data = pd.merge(auth_df, reg_df, on='uid', how='left')\n",
    "    \n",
    "    # Приведем колонки с датами к верному формату\n",
    "    merge_data['auth_ts'] = pd.to_datetime(merge_data['auth_ts'], unit='s').dt.floor(\"D\")\n",
    "    merge_data['reg_ts'] = pd.to_datetime(merge_data['reg_ts'], unit='s').dt.floor(\"D\")    \n",
    "    \n",
    "    # Cоздаем столбец с количеством дней, прошедших с регистрации до входа в игру\n",
    "    merge_data['days'] = (merge_data['auth_ts'] - merge_data['reg_ts']).dt.days\n",
    "    \n",
    "    # Приведем данные к нужному диапазону\n",
    "    merge_data = merge_data[(merge_data['reg_ts'] >= start) &\n",
    "                            (merge_data['reg_ts'] <= end) &\n",
    "                            (merge_data['days'] <= amount_days)]  \n",
    "\n",
    "    # Рассчитаем количество зарегестрированных пользователей по каждому дню\n",
    "    retention_df = merge_data.groupby(['reg_ts', 'days']).agg(users=('uid', 'nunique')).reset_index()\n",
    "\n",
    "    # Соберем данные в сводную таблицу\n",
    "    pivot_retention = retention_df.pivot(index='reg_ts', columns='days', values='users').fillna(0).astype(int)    \n",
    "    # Переименуем колонки для более удобного восприятия\n",
    "    pivot_retention = pivot_retention.reset_index().rename(columns={0: 'users'}).set_index(['reg_ts', 'users'])\n",
    "    \n",
    "    # Настроим стиль отображения таблицы, чуть увеличим размер для лучшего чтения информации\n",
    "    styles = [\n",
    "        dict(selector=\"table\", props=[(\"font-size\", \"120%\")]),\n",
    "        dict(selector=\"th\", props=[(\"font-size\", \"120%\")]),\n",
    "        dict(selector=\"td\", props=[(\"font-size\", \"120%\")]),\n",
    "    ]\n",
    "    \n",
    "    # Для более удобного восприятия картины, оформим всю таблицу в цетовой схеме, с отображением вместо значений\n",
    "    # проценты Retantion\n",
    "    pivot_retention = pivot_retention.iloc[:, 0:].style. \\\n",
    "        background_gradient(axis=None, cmap='coolwarm').highlight_null('white')\n",
    "    \n",
    "    return pivot_retention.set_table_styles(styles)"
   ]
  },
  {
   "cell_type": "code",
   "execution_count": 43,
   "id": "5bc11d1a",
   "metadata": {},
   "outputs": [
    {
     "data": {
      "text/html": [
       "<style type=\"text/css\">\n",
       "#T_fc0e6 table {\n",
       "  font-size: 120%;\n",
       "}\n",
       "#T_fc0e6 th {\n",
       "  font-size: 120%;\n",
       "}\n",
       "#T_fc0e6 td {\n",
       "  font-size: 120%;\n",
       "}\n",
       "#T_fc0e6_row0_col0, #T_fc0e6_row3_col0, #T_fc0e6_row12_col0 {\n",
       "  background-color: #88abfd;\n",
       "  color: #000000;\n",
       "}\n",
       "#T_fc0e6_row0_col1, #T_fc0e6_row0_col7, #T_fc0e6_row1_col8, #T_fc0e6_row10_col1 {\n",
       "  background-color: #d7dce3;\n",
       "  color: #000000;\n",
       "}\n",
       "#T_fc0e6_row0_col2 {\n",
       "  background-color: #dbdcde;\n",
       "  color: #000000;\n",
       "}\n",
       "#T_fc0e6_row0_col3, #T_fc0e6_row9_col8, #T_fc0e6_row10_col2, #T_fc0e6_row13_col2 {\n",
       "  background-color: #e6d7cf;\n",
       "  color: #000000;\n",
       "}\n",
       "#T_fc0e6_row0_col4, #T_fc0e6_row0_col6, #T_fc0e6_row3_col4, #T_fc0e6_row6_col4, #T_fc0e6_row10_col6, #T_fc0e6_row13_col6 {\n",
       "  background-color: #f4987a;\n",
       "  color: #000000;\n",
       "}\n",
       "#T_fc0e6_row0_col5 {\n",
       "  background-color: #f7bca1;\n",
       "  color: #000000;\n",
       "}\n",
       "#T_fc0e6_row0_col8, #T_fc0e6_row2_col1, #T_fc0e6_row6_col2, #T_fc0e6_row13_col3 {\n",
       "  background-color: #f5c2aa;\n",
       "  color: #000000;\n",
       "}\n",
       "#T_fc0e6_row0_col9, #T_fc0e6_row4_col7, #T_fc0e6_row6_col3, #T_fc0e6_row8_col8 {\n",
       "  background-color: #f1ccb8;\n",
       "  color: #000000;\n",
       "}\n",
       "#T_fc0e6_row1_col0, #T_fc0e6_row14_col7 {\n",
       "  background-color: #9dbdff;\n",
       "  color: #000000;\n",
       "}\n",
       "#T_fc0e6_row1_col1, #T_fc0e6_row11_col1, #T_fc0e6_row13_col1 {\n",
       "  background-color: #d1dae9;\n",
       "  color: #000000;\n",
       "}\n",
       "#T_fc0e6_row1_col2, #T_fc0e6_row4_col2, #T_fc0e6_row14_col2 {\n",
       "  background-color: #e8d6cc;\n",
       "  color: #000000;\n",
       "}\n",
       "#T_fc0e6_row1_col3, #T_fc0e6_row1_col9, #T_fc0e6_row3_col9, #T_fc0e6_row5_col3, #T_fc0e6_row6_col8 {\n",
       "  background-color: #f7b99e;\n",
       "  color: #000000;\n",
       "}\n",
       "#T_fc0e6_row1_col4 {\n",
       "  background-color: #f6a283;\n",
       "  color: #000000;\n",
       "}\n",
       "#T_fc0e6_row1_col5, #T_fc0e6_row13_col5 {\n",
       "  background-color: #e8765c;\n",
       "  color: #f1f1f1;\n",
       "}\n",
       "#T_fc0e6_row1_col6, #T_fc0e6_row2_col8 {\n",
       "  background-color: #f59f80;\n",
       "  color: #000000;\n",
       "}\n",
       "#T_fc0e6_row1_col7, #T_fc0e6_row9_col2 {\n",
       "  background-color: #ecd3c5;\n",
       "  color: #000000;\n",
       "}\n",
       "#T_fc0e6_row2_col0 {\n",
       "  background-color: #94b6ff;\n",
       "  color: #000000;\n",
       "}\n",
       "#T_fc0e6_row2_col2, #T_fc0e6_row8_col2, #T_fc0e6_row10_col8, #T_fc0e6_row11_col3 {\n",
       "  background-color: #ead5c9;\n",
       "  color: #000000;\n",
       "}\n",
       "#T_fc0e6_row2_col3 {\n",
       "  background-color: #f39475;\n",
       "  color: #000000;\n",
       "}\n",
       "#T_fc0e6_row2_col4 {\n",
       "  background-color: #eb7d62;\n",
       "  color: #f1f1f1;\n",
       "}\n",
       "#T_fc0e6_row2_col5 {\n",
       "  background-color: #b40426;\n",
       "  color: #f1f1f1;\n",
       "}\n",
       "#T_fc0e6_row2_col6, #T_fc0e6_row2_col9, #T_fc0e6_row9_col5 {\n",
       "  background-color: #f59c7d;\n",
       "  color: #000000;\n",
       "}\n",
       "#T_fc0e6_row2_col7, #T_fc0e6_row4_col3, #T_fc0e6_row4_col8, #T_fc0e6_row5_col2, #T_fc0e6_row10_col9 {\n",
       "  background-color: #f5c0a7;\n",
       "  color: #000000;\n",
       "}\n",
       "#T_fc0e6_row3_col1, #T_fc0e6_row3_col2, #T_fc0e6_row12_col9 {\n",
       "  background-color: #c9d7f0;\n",
       "  color: #000000;\n",
       "}\n",
       "#T_fc0e6_row3_col3 {\n",
       "  background-color: #f2cab5;\n",
       "  color: #000000;\n",
       "}\n",
       "#T_fc0e6_row3_col5 {\n",
       "  background-color: #e36b54;\n",
       "  color: #f1f1f1;\n",
       "}\n",
       "#T_fc0e6_row3_col6 {\n",
       "  background-color: #efcfbf;\n",
       "  color: #000000;\n",
       "}\n",
       "#T_fc0e6_row3_col7, #T_fc0e6_row11_col7 {\n",
       "  background-color: #f5c4ac;\n",
       "  color: #000000;\n",
       "}\n",
       "#T_fc0e6_row3_col8, #T_fc0e6_row5_col1, #T_fc0e6_row9_col1, #T_fc0e6_row12_col2 {\n",
       "  background-color: #dedcdb;\n",
       "  color: #000000;\n",
       "}\n",
       "#T_fc0e6_row4_col0 {\n",
       "  background-color: #a6c4fe;\n",
       "  color: #000000;\n",
       "}\n",
       "#T_fc0e6_row4_col1, #T_fc0e6_row7_col1, #T_fc0e6_row7_col2 {\n",
       "  background-color: #d3dbe7;\n",
       "  color: #000000;\n",
       "}\n",
       "#T_fc0e6_row4_col4, #T_fc0e6_row5_col4 {\n",
       "  background-color: #f7b093;\n",
       "  color: #000000;\n",
       "}\n",
       "#T_fc0e6_row4_col5 {\n",
       "  background-color: #dd5f4b;\n",
       "  color: #f1f1f1;\n",
       "}\n",
       "#T_fc0e6_row4_col6, #T_fc0e6_row5_col9, #T_fc0e6_row7_col3, #T_fc0e6_row9_col7 {\n",
       "  background-color: #edd1c2;\n",
       "  color: #000000;\n",
       "}\n",
       "#T_fc0e6_row4_col9, #T_fc0e6_row6_col9 {\n",
       "  background-color: #f7aa8c;\n",
       "  color: #000000;\n",
       "}\n",
       "#T_fc0e6_row5_col0 {\n",
       "  background-color: #b6cefa;\n",
       "  color: #000000;\n",
       "}\n",
       "#T_fc0e6_row5_col5, #T_fc0e6_row9_col4 {\n",
       "  background-color: #ed8366;\n",
       "  color: #f1f1f1;\n",
       "}\n",
       "#T_fc0e6_row5_col6 {\n",
       "  background-color: #f7a889;\n",
       "  color: #000000;\n",
       "}\n",
       "#T_fc0e6_row5_col7, #T_fc0e6_row11_col6 {\n",
       "  background-color: #f7b194;\n",
       "  color: #000000;\n",
       "}\n",
       "#T_fc0e6_row5_col8 {\n",
       "  background-color: #f6bea4;\n",
       "  color: #000000;\n",
       "}\n",
       "#T_fc0e6_row6_col0, #T_fc0e6_row13_col8 {\n",
       "  background-color: #aec9fc;\n",
       "  color: #000000;\n",
       "}\n",
       "#T_fc0e6_row6_col1, #T_fc0e6_row9_col3 {\n",
       "  background-color: #dddcdc;\n",
       "  color: #000000;\n",
       "}\n",
       "#T_fc0e6_row6_col5 {\n",
       "  background-color: #e16751;\n",
       "  color: #f1f1f1;\n",
       "}\n",
       "#T_fc0e6_row6_col6 {\n",
       "  background-color: #f4c6af;\n",
       "  color: #000000;\n",
       "}\n",
       "#T_fc0e6_row6_col7, #T_fc0e6_row12_col1, #T_fc0e6_row14_col1 {\n",
       "  background-color: #d9dce1;\n",
       "  color: #000000;\n",
       "}\n",
       "#T_fc0e6_row7_col0, #T_fc0e6_row8_col0 {\n",
       "  background-color: #7da0f9;\n",
       "  color: #f1f1f1;\n",
       "}\n",
       "#T_fc0e6_row7_col4 {\n",
       "  background-color: #d75445;\n",
       "  color: #f1f1f1;\n",
       "}\n",
       "#T_fc0e6_row7_col5 {\n",
       "  background-color: #d95847;\n",
       "  color: #f1f1f1;\n",
       "}\n",
       "#T_fc0e6_row7_col6, #T_fc0e6_row11_col5, #T_fc0e6_row12_col4 {\n",
       "  background-color: #f18d6f;\n",
       "  color: #f1f1f1;\n",
       "}\n",
       "#T_fc0e6_row7_col7, #T_fc0e6_row7_col8, #T_fc0e6_row11_col8, #T_fc0e6_row12_col3 {\n",
       "  background-color: #f3c8b2;\n",
       "  color: #000000;\n",
       "}\n",
       "#T_fc0e6_row7_col9, #T_fc0e6_row12_col5, #T_fc0e6_row13_col4 {\n",
       "  background-color: #f29072;\n",
       "  color: #f1f1f1;\n",
       "}\n",
       "#T_fc0e6_row8_col1 {\n",
       "  background-color: #bad0f8;\n",
       "  color: #000000;\n",
       "}\n",
       "#T_fc0e6_row8_col3, #T_fc0e6_row8_col5, #T_fc0e6_row10_col4, #T_fc0e6_row11_col9, #T_fc0e6_row14_col6 {\n",
       "  background-color: #f7b497;\n",
       "  color: #000000;\n",
       "}\n",
       "#T_fc0e6_row8_col4 {\n",
       "  background-color: #f08a6c;\n",
       "  color: #f1f1f1;\n",
       "}\n",
       "#T_fc0e6_row8_col6 {\n",
       "  background-color: #f7ad90;\n",
       "  color: #000000;\n",
       "}\n",
       "#T_fc0e6_row8_col7 {\n",
       "  background-color: #e0dbd8;\n",
       "  color: #000000;\n",
       "}\n",
       "#T_fc0e6_row8_col9 {\n",
       "  background-color: #ccd9ed;\n",
       "  color: #000000;\n",
       "}\n",
       "#T_fc0e6_row9_col0 {\n",
       "  background-color: #8badfd;\n",
       "  color: #000000;\n",
       "}\n",
       "#T_fc0e6_row9_col6 {\n",
       "  background-color: #e67259;\n",
       "  color: #f1f1f1;\n",
       "}\n",
       "#T_fc0e6_row9_col9, #T_fc0e6_row10_col3, #T_fc0e6_row14_col4 {\n",
       "  background-color: #f7b79b;\n",
       "  color: #000000;\n",
       "}\n",
       "#T_fc0e6_row10_col0 {\n",
       "  background-color: #6b8df0;\n",
       "  color: #f1f1f1;\n",
       "}\n",
       "#T_fc0e6_row10_col5 {\n",
       "  background-color: #ee8669;\n",
       "  color: #f1f1f1;\n",
       "}\n",
       "#T_fc0e6_row10_col7 {\n",
       "  background-color: #e2dad5;\n",
       "  color: #000000;\n",
       "}\n",
       "#T_fc0e6_row11_col0 {\n",
       "  background-color: #85a8fc;\n",
       "  color: #f1f1f1;\n",
       "}\n",
       "#T_fc0e6_row11_col2, #T_fc0e6_row12_col7 {\n",
       "  background-color: #ebd3c6;\n",
       "  color: #000000;\n",
       "}\n",
       "#T_fc0e6_row11_col4, #T_fc0e6_row14_col3 {\n",
       "  background-color: #f6a586;\n",
       "  color: #000000;\n",
       "}\n",
       "#T_fc0e6_row12_col6, #T_fc0e6_row12_col8 {\n",
       "  background-color: #f0cdbb;\n",
       "  color: #000000;\n",
       "}\n",
       "#T_fc0e6_row13_col0, #T_fc0e6_row14_col0 {\n",
       "  background-color: #92b4fe;\n",
       "  color: #000000;\n",
       "}\n",
       "#T_fc0e6_row13_col7 {\n",
       "  background-color: #e4d9d2;\n",
       "  color: #000000;\n",
       "}\n",
       "#T_fc0e6_row13_col9, #T_fc0e6_row14_col8, #T_fc0e6_row14_col9 {\n",
       "  background-color: #3b4cc0;\n",
       "  color: #f1f1f1;\n",
       "}\n",
       "#T_fc0e6_row14_col5 {\n",
       "  background-color: #e97a5f;\n",
       "  color: #f1f1f1;\n",
       "}\n",
       "</style>\n",
       "<table id=\"T_fc0e6\">\n",
       "  <thead>\n",
       "    <tr>\n",
       "      <th class=\"blank\" >&nbsp;</th>\n",
       "      <th class=\"index_name level0\" >days</th>\n",
       "      <th id=\"T_fc0e6_level0_col0\" class=\"col_heading level0 col0\" >1</th>\n",
       "      <th id=\"T_fc0e6_level0_col1\" class=\"col_heading level0 col1\" >2</th>\n",
       "      <th id=\"T_fc0e6_level0_col2\" class=\"col_heading level0 col2\" >3</th>\n",
       "      <th id=\"T_fc0e6_level0_col3\" class=\"col_heading level0 col3\" >4</th>\n",
       "      <th id=\"T_fc0e6_level0_col4\" class=\"col_heading level0 col4\" >5</th>\n",
       "      <th id=\"T_fc0e6_level0_col5\" class=\"col_heading level0 col5\" >6</th>\n",
       "      <th id=\"T_fc0e6_level0_col6\" class=\"col_heading level0 col6\" >7</th>\n",
       "      <th id=\"T_fc0e6_level0_col7\" class=\"col_heading level0 col7\" >8</th>\n",
       "      <th id=\"T_fc0e6_level0_col8\" class=\"col_heading level0 col8\" >9</th>\n",
       "      <th id=\"T_fc0e6_level0_col9\" class=\"col_heading level0 col9\" >10</th>\n",
       "    </tr>\n",
       "    <tr>\n",
       "      <th class=\"index_name level0\" >reg_ts</th>\n",
       "      <th class=\"index_name level1\" >users</th>\n",
       "      <th class=\"blank col0\" >&nbsp;</th>\n",
       "      <th class=\"blank col1\" >&nbsp;</th>\n",
       "      <th class=\"blank col2\" >&nbsp;</th>\n",
       "      <th class=\"blank col3\" >&nbsp;</th>\n",
       "      <th class=\"blank col4\" >&nbsp;</th>\n",
       "      <th class=\"blank col5\" >&nbsp;</th>\n",
       "      <th class=\"blank col6\" >&nbsp;</th>\n",
       "      <th class=\"blank col7\" >&nbsp;</th>\n",
       "      <th class=\"blank col8\" >&nbsp;</th>\n",
       "      <th class=\"blank col9\" >&nbsp;</th>\n",
       "    </tr>\n",
       "  </thead>\n",
       "  <tbody>\n",
       "    <tr>\n",
       "      <th id=\"T_fc0e6_level0_row0\" class=\"row_heading level0 row0\" >2020-09-01 00:00:00</th>\n",
       "      <th id=\"T_fc0e6_level1_row0\" class=\"row_heading level1 row0\" >1586</th>\n",
       "      <td id=\"T_fc0e6_row0_col0\" class=\"data row0 col0\" >32</td>\n",
       "      <td id=\"T_fc0e6_row0_col1\" class=\"data row0 col1\" >65</td>\n",
       "      <td id=\"T_fc0e6_row0_col2\" class=\"data row0 col2\" >67</td>\n",
       "      <td id=\"T_fc0e6_row0_col3\" class=\"data row0 col3\" >73</td>\n",
       "      <td id=\"T_fc0e6_row0_col4\" class=\"data row0 col4\" >102</td>\n",
       "      <td id=\"T_fc0e6_row0_col5\" class=\"data row0 col5\" >89</td>\n",
       "      <td id=\"T_fc0e6_row0_col6\" class=\"data row0 col6\" >102</td>\n",
       "      <td id=\"T_fc0e6_row0_col7\" class=\"data row0 col7\" >65</td>\n",
       "      <td id=\"T_fc0e6_row0_col8\" class=\"data row0 col8\" >86</td>\n",
       "      <td id=\"T_fc0e6_row0_col9\" class=\"data row0 col9\" >81</td>\n",
       "    </tr>\n",
       "    <tr>\n",
       "      <th id=\"T_fc0e6_level0_row1\" class=\"row_heading level0 row1\" >2020-09-02 00:00:00</th>\n",
       "      <th id=\"T_fc0e6_level1_row1\" class=\"row_heading level1 row1\" >1588</th>\n",
       "      <td id=\"T_fc0e6_row1_col0\" class=\"data row1 col0\" >40</td>\n",
       "      <td id=\"T_fc0e6_row1_col1\" class=\"data row1 col1\" >62</td>\n",
       "      <td id=\"T_fc0e6_row1_col2\" class=\"data row1 col2\" >74</td>\n",
       "      <td id=\"T_fc0e6_row1_col3\" class=\"data row1 col3\" >90</td>\n",
       "      <td id=\"T_fc0e6_row1_col4\" class=\"data row1 col4\" >99</td>\n",
       "      <td id=\"T_fc0e6_row1_col5\" class=\"data row1 col5\" >113</td>\n",
       "      <td id=\"T_fc0e6_row1_col6\" class=\"data row1 col6\" >100</td>\n",
       "      <td id=\"T_fc0e6_row1_col7\" class=\"data row1 col7\" >77</td>\n",
       "      <td id=\"T_fc0e6_row1_col8\" class=\"data row1 col8\" >65</td>\n",
       "      <td id=\"T_fc0e6_row1_col9\" class=\"data row1 col9\" >90</td>\n",
       "    </tr>\n",
       "    <tr>\n",
       "      <th id=\"T_fc0e6_level0_row2\" class=\"row_heading level0 row2\" >2020-09-03 00:00:00</th>\n",
       "      <th id=\"T_fc0e6_level1_row2\" class=\"row_heading level1 row2\" >1591</th>\n",
       "      <td id=\"T_fc0e6_row2_col0\" class=\"data row2 col0\" >37</td>\n",
       "      <td id=\"T_fc0e6_row2_col1\" class=\"data row2 col1\" >86</td>\n",
       "      <td id=\"T_fc0e6_row2_col2\" class=\"data row2 col2\" >75</td>\n",
       "      <td id=\"T_fc0e6_row2_col3\" class=\"data row2 col3\" >104</td>\n",
       "      <td id=\"T_fc0e6_row2_col4\" class=\"data row2 col4\" >111</td>\n",
       "      <td id=\"T_fc0e6_row2_col5\" class=\"data row2 col5\" >136</td>\n",
       "      <td id=\"T_fc0e6_row2_col6\" class=\"data row2 col6\" >101</td>\n",
       "      <td id=\"T_fc0e6_row2_col7\" class=\"data row2 col7\" >87</td>\n",
       "      <td id=\"T_fc0e6_row2_col8\" class=\"data row2 col8\" >100</td>\n",
       "      <td id=\"T_fc0e6_row2_col9\" class=\"data row2 col9\" >101</td>\n",
       "    </tr>\n",
       "    <tr>\n",
       "      <th id=\"T_fc0e6_level0_row3\" class=\"row_heading level0 row3\" >2020-09-04 00:00:00</th>\n",
       "      <th id=\"T_fc0e6_level1_row3\" class=\"row_heading level1 row3\" >1593</th>\n",
       "      <td id=\"T_fc0e6_row3_col0\" class=\"data row3 col0\" >32</td>\n",
       "      <td id=\"T_fc0e6_row3_col1\" class=\"data row3 col1\" >58</td>\n",
       "      <td id=\"T_fc0e6_row3_col2\" class=\"data row3 col2\" >58</td>\n",
       "      <td id=\"T_fc0e6_row3_col3\" class=\"data row3 col3\" >82</td>\n",
       "      <td id=\"T_fc0e6_row3_col4\" class=\"data row3 col4\" >102</td>\n",
       "      <td id=\"T_fc0e6_row3_col5\" class=\"data row3 col5\" >116</td>\n",
       "      <td id=\"T_fc0e6_row3_col6\" class=\"data row3 col6\" >79</td>\n",
       "      <td id=\"T_fc0e6_row3_col7\" class=\"data row3 col7\" >85</td>\n",
       "      <td id=\"T_fc0e6_row3_col8\" class=\"data row3 col8\" >69</td>\n",
       "      <td id=\"T_fc0e6_row3_col9\" class=\"data row3 col9\" >90</td>\n",
       "    </tr>\n",
       "    <tr>\n",
       "      <th id=\"T_fc0e6_level0_row4\" class=\"row_heading level0 row4\" >2020-09-05 00:00:00</th>\n",
       "      <th id=\"T_fc0e6_level1_row4\" class=\"row_heading level1 row4\" >1596</th>\n",
       "      <td id=\"T_fc0e6_row4_col0\" class=\"data row4 col0\" >44</td>\n",
       "      <td id=\"T_fc0e6_row4_col1\" class=\"data row4 col1\" >63</td>\n",
       "      <td id=\"T_fc0e6_row4_col2\" class=\"data row4 col2\" >74</td>\n",
       "      <td id=\"T_fc0e6_row4_col3\" class=\"data row4 col3\" >87</td>\n",
       "      <td id=\"T_fc0e6_row4_col4\" class=\"data row4 col4\" >94</td>\n",
       "      <td id=\"T_fc0e6_row4_col5\" class=\"data row4 col5\" >119</td>\n",
       "      <td id=\"T_fc0e6_row4_col6\" class=\"data row4 col6\" >78</td>\n",
       "      <td id=\"T_fc0e6_row4_col7\" class=\"data row4 col7\" >81</td>\n",
       "      <td id=\"T_fc0e6_row4_col8\" class=\"data row4 col8\" >87</td>\n",
       "      <td id=\"T_fc0e6_row4_col9\" class=\"data row4 col9\" >96</td>\n",
       "    </tr>\n",
       "    <tr>\n",
       "      <th id=\"T_fc0e6_level0_row5\" class=\"row_heading level0 row5\" >2020-09-06 00:00:00</th>\n",
       "      <th id=\"T_fc0e6_level1_row5\" class=\"row_heading level1 row5\" >1599</th>\n",
       "      <td id=\"T_fc0e6_row5_col0\" class=\"data row5 col0\" >50</td>\n",
       "      <td id=\"T_fc0e6_row5_col1\" class=\"data row5 col1\" >69</td>\n",
       "      <td id=\"T_fc0e6_row5_col2\" class=\"data row5 col2\" >87</td>\n",
       "      <td id=\"T_fc0e6_row5_col3\" class=\"data row5 col3\" >90</td>\n",
       "      <td id=\"T_fc0e6_row5_col4\" class=\"data row5 col4\" >94</td>\n",
       "      <td id=\"T_fc0e6_row5_col5\" class=\"data row5 col5\" >109</td>\n",
       "      <td id=\"T_fc0e6_row5_col6\" class=\"data row5 col6\" >97</td>\n",
       "      <td id=\"T_fc0e6_row5_col7\" class=\"data row5 col7\" >93</td>\n",
       "      <td id=\"T_fc0e6_row5_col8\" class=\"data row5 col8\" >88</td>\n",
       "      <td id=\"T_fc0e6_row5_col9\" class=\"data row5 col9\" >78</td>\n",
       "    </tr>\n",
       "    <tr>\n",
       "      <th id=\"T_fc0e6_level0_row6\" class=\"row_heading level0 row6\" >2020-09-07 00:00:00</th>\n",
       "      <th id=\"T_fc0e6_level1_row6\" class=\"row_heading level1 row6\" >1601</th>\n",
       "      <td id=\"T_fc0e6_row6_col0\" class=\"data row6 col0\" >47</td>\n",
       "      <td id=\"T_fc0e6_row6_col1\" class=\"data row6 col1\" >68</td>\n",
       "      <td id=\"T_fc0e6_row6_col2\" class=\"data row6 col2\" >86</td>\n",
       "      <td id=\"T_fc0e6_row6_col3\" class=\"data row6 col3\" >81</td>\n",
       "      <td id=\"T_fc0e6_row6_col4\" class=\"data row6 col4\" >102</td>\n",
       "      <td id=\"T_fc0e6_row6_col5\" class=\"data row6 col5\" >117</td>\n",
       "      <td id=\"T_fc0e6_row6_col6\" class=\"data row6 col6\" >84</td>\n",
       "      <td id=\"T_fc0e6_row6_col7\" class=\"data row6 col7\" >66</td>\n",
       "      <td id=\"T_fc0e6_row6_col8\" class=\"data row6 col8\" >90</td>\n",
       "      <td id=\"T_fc0e6_row6_col9\" class=\"data row6 col9\" >96</td>\n",
       "    </tr>\n",
       "    <tr>\n",
       "      <th id=\"T_fc0e6_level0_row7\" class=\"row_heading level0 row7\" >2020-09-08 00:00:00</th>\n",
       "      <th id=\"T_fc0e6_level1_row7\" class=\"row_heading level1 row7\" >1604</th>\n",
       "      <td id=\"T_fc0e6_row7_col0\" class=\"data row7 col0\" >28</td>\n",
       "      <td id=\"T_fc0e6_row7_col1\" class=\"data row7 col1\" >63</td>\n",
       "      <td id=\"T_fc0e6_row7_col2\" class=\"data row7 col2\" >63</td>\n",
       "      <td id=\"T_fc0e6_row7_col3\" class=\"data row7 col3\" >78</td>\n",
       "      <td id=\"T_fc0e6_row7_col4\" class=\"data row7 col4\" >122</td>\n",
       "      <td id=\"T_fc0e6_row7_col5\" class=\"data row7 col5\" >121</td>\n",
       "      <td id=\"T_fc0e6_row7_col6\" class=\"data row7 col6\" >106</td>\n",
       "      <td id=\"T_fc0e6_row7_col7\" class=\"data row7 col7\" >83</td>\n",
       "      <td id=\"T_fc0e6_row7_col8\" class=\"data row7 col8\" >83</td>\n",
       "      <td id=\"T_fc0e6_row7_col9\" class=\"data row7 col9\" >105</td>\n",
       "    </tr>\n",
       "    <tr>\n",
       "      <th id=\"T_fc0e6_level0_row8\" class=\"row_heading level0 row8\" >2020-09-09 00:00:00</th>\n",
       "      <th id=\"T_fc0e6_level1_row8\" class=\"row_heading level1 row8\" >1607</th>\n",
       "      <td id=\"T_fc0e6_row8_col0\" class=\"data row8 col0\" >28</td>\n",
       "      <td id=\"T_fc0e6_row8_col1\" class=\"data row8 col1\" >52</td>\n",
       "      <td id=\"T_fc0e6_row8_col2\" class=\"data row8 col2\" >75</td>\n",
       "      <td id=\"T_fc0e6_row8_col3\" class=\"data row8 col3\" >92</td>\n",
       "      <td id=\"T_fc0e6_row8_col4\" class=\"data row8 col4\" >107</td>\n",
       "      <td id=\"T_fc0e6_row8_col5\" class=\"data row8 col5\" >92</td>\n",
       "      <td id=\"T_fc0e6_row8_col6\" class=\"data row8 col6\" >95</td>\n",
       "      <td id=\"T_fc0e6_row8_col7\" class=\"data row8 col7\" >70</td>\n",
       "      <td id=\"T_fc0e6_row8_col8\" class=\"data row8 col8\" >81</td>\n",
       "      <td id=\"T_fc0e6_row8_col9\" class=\"data row8 col9\" >60</td>\n",
       "    </tr>\n",
       "    <tr>\n",
       "      <th id=\"T_fc0e6_level0_row9\" class=\"row_heading level0 row9\" >2020-09-10 00:00:00</th>\n",
       "      <th id=\"T_fc0e6_level1_row9\" class=\"row_heading level1 row9\" >1609</th>\n",
       "      <td id=\"T_fc0e6_row9_col0\" class=\"data row9 col0\" >33</td>\n",
       "      <td id=\"T_fc0e6_row9_col1\" class=\"data row9 col1\" >69</td>\n",
       "      <td id=\"T_fc0e6_row9_col2\" class=\"data row9 col2\" >77</td>\n",
       "      <td id=\"T_fc0e6_row9_col3\" class=\"data row9 col3\" >68</td>\n",
       "      <td id=\"T_fc0e6_row9_col4\" class=\"data row9 col4\" >109</td>\n",
       "      <td id=\"T_fc0e6_row9_col5\" class=\"data row9 col5\" >101</td>\n",
       "      <td id=\"T_fc0e6_row9_col6\" class=\"data row9 col6\" >114</td>\n",
       "      <td id=\"T_fc0e6_row9_col7\" class=\"data row9 col7\" >78</td>\n",
       "      <td id=\"T_fc0e6_row9_col8\" class=\"data row9 col8\" >73</td>\n",
       "      <td id=\"T_fc0e6_row9_col9\" class=\"data row9 col9\" >91</td>\n",
       "    </tr>\n",
       "    <tr>\n",
       "      <th id=\"T_fc0e6_level0_row10\" class=\"row_heading level0 row10\" >2020-09-11 00:00:00</th>\n",
       "      <th id=\"T_fc0e6_level1_row10\" class=\"row_heading level1 row10\" >1612</th>\n",
       "      <td id=\"T_fc0e6_row10_col0\" class=\"data row10 col0\" >21</td>\n",
       "      <td id=\"T_fc0e6_row10_col1\" class=\"data row10 col1\" >65</td>\n",
       "      <td id=\"T_fc0e6_row10_col2\" class=\"data row10 col2\" >73</td>\n",
       "      <td id=\"T_fc0e6_row10_col3\" class=\"data row10 col3\" >91</td>\n",
       "      <td id=\"T_fc0e6_row10_col4\" class=\"data row10 col4\" >92</td>\n",
       "      <td id=\"T_fc0e6_row10_col5\" class=\"data row10 col5\" >108</td>\n",
       "      <td id=\"T_fc0e6_row10_col6\" class=\"data row10 col6\" >102</td>\n",
       "      <td id=\"T_fc0e6_row10_col7\" class=\"data row10 col7\" >71</td>\n",
       "      <td id=\"T_fc0e6_row10_col8\" class=\"data row10 col8\" >75</td>\n",
       "      <td id=\"T_fc0e6_row10_col9\" class=\"data row10 col9\" >87</td>\n",
       "    </tr>\n",
       "    <tr>\n",
       "      <th id=\"T_fc0e6_level0_row11\" class=\"row_heading level0 row11\" >2020-09-12 00:00:00</th>\n",
       "      <th id=\"T_fc0e6_level1_row11\" class=\"row_heading level1 row11\" >1614</th>\n",
       "      <td id=\"T_fc0e6_row11_col0\" class=\"data row11 col0\" >31</td>\n",
       "      <td id=\"T_fc0e6_row11_col1\" class=\"data row11 col1\" >62</td>\n",
       "      <td id=\"T_fc0e6_row11_col2\" class=\"data row11 col2\" >76</td>\n",
       "      <td id=\"T_fc0e6_row11_col3\" class=\"data row11 col3\" >75</td>\n",
       "      <td id=\"T_fc0e6_row11_col4\" class=\"data row11 col4\" >98</td>\n",
       "      <td id=\"T_fc0e6_row11_col5\" class=\"data row11 col5\" >106</td>\n",
       "      <td id=\"T_fc0e6_row11_col6\" class=\"data row11 col6\" >93</td>\n",
       "      <td id=\"T_fc0e6_row11_col7\" class=\"data row11 col7\" >85</td>\n",
       "      <td id=\"T_fc0e6_row11_col8\" class=\"data row11 col8\" >83</td>\n",
       "      <td id=\"T_fc0e6_row11_col9\" class=\"data row11 col9\" >92</td>\n",
       "    </tr>\n",
       "    <tr>\n",
       "      <th id=\"T_fc0e6_level0_row12\" class=\"row_heading level0 row12\" >2020-09-13 00:00:00</th>\n",
       "      <th id=\"T_fc0e6_level1_row12\" class=\"row_heading level1 row12\" >1618</th>\n",
       "      <td id=\"T_fc0e6_row12_col0\" class=\"data row12 col0\" >32</td>\n",
       "      <td id=\"T_fc0e6_row12_col1\" class=\"data row12 col1\" >66</td>\n",
       "      <td id=\"T_fc0e6_row12_col2\" class=\"data row12 col2\" >69</td>\n",
       "      <td id=\"T_fc0e6_row12_col3\" class=\"data row12 col3\" >83</td>\n",
       "      <td id=\"T_fc0e6_row12_col4\" class=\"data row12 col4\" >106</td>\n",
       "      <td id=\"T_fc0e6_row12_col5\" class=\"data row12 col5\" >105</td>\n",
       "      <td id=\"T_fc0e6_row12_col6\" class=\"data row12 col6\" >80</td>\n",
       "      <td id=\"T_fc0e6_row12_col7\" class=\"data row12 col7\" >76</td>\n",
       "      <td id=\"T_fc0e6_row12_col8\" class=\"data row12 col8\" >80</td>\n",
       "      <td id=\"T_fc0e6_row12_col9\" class=\"data row12 col9\" >58</td>\n",
       "    </tr>\n",
       "    <tr>\n",
       "      <th id=\"T_fc0e6_level0_row13\" class=\"row_heading level0 row13\" >2020-09-14 00:00:00</th>\n",
       "      <th id=\"T_fc0e6_level1_row13\" class=\"row_heading level1 row13\" >1619</th>\n",
       "      <td id=\"T_fc0e6_row13_col0\" class=\"data row13 col0\" >36</td>\n",
       "      <td id=\"T_fc0e6_row13_col1\" class=\"data row13 col1\" >62</td>\n",
       "      <td id=\"T_fc0e6_row13_col2\" class=\"data row13 col2\" >73</td>\n",
       "      <td id=\"T_fc0e6_row13_col3\" class=\"data row13 col3\" >86</td>\n",
       "      <td id=\"T_fc0e6_row13_col4\" class=\"data row13 col4\" >105</td>\n",
       "      <td id=\"T_fc0e6_row13_col5\" class=\"data row13 col5\" >113</td>\n",
       "      <td id=\"T_fc0e6_row13_col6\" class=\"data row13 col6\" >102</td>\n",
       "      <td id=\"T_fc0e6_row13_col7\" class=\"data row13 col7\" >72</td>\n",
       "      <td id=\"T_fc0e6_row13_col8\" class=\"data row13 col8\" >47</td>\n",
       "      <td id=\"T_fc0e6_row13_col9\" class=\"data row13 col9\" >0</td>\n",
       "    </tr>\n",
       "    <tr>\n",
       "      <th id=\"T_fc0e6_level0_row14\" class=\"row_heading level0 row14\" >2020-09-15 00:00:00</th>\n",
       "      <th id=\"T_fc0e6_level1_row14\" class=\"row_heading level1 row14\" >1623</th>\n",
       "      <td id=\"T_fc0e6_row14_col0\" class=\"data row14 col0\" >36</td>\n",
       "      <td id=\"T_fc0e6_row14_col1\" class=\"data row14 col1\" >66</td>\n",
       "      <td id=\"T_fc0e6_row14_col2\" class=\"data row14 col2\" >74</td>\n",
       "      <td id=\"T_fc0e6_row14_col3\" class=\"data row14 col3\" >98</td>\n",
       "      <td id=\"T_fc0e6_row14_col4\" class=\"data row14 col4\" >91</td>\n",
       "      <td id=\"T_fc0e6_row14_col5\" class=\"data row14 col5\" >112</td>\n",
       "      <td id=\"T_fc0e6_row14_col6\" class=\"data row14 col6\" >92</td>\n",
       "      <td id=\"T_fc0e6_row14_col7\" class=\"data row14 col7\" >40</td>\n",
       "      <td id=\"T_fc0e6_row14_col8\" class=\"data row14 col8\" >0</td>\n",
       "      <td id=\"T_fc0e6_row14_col9\" class=\"data row14 col9\" >0</td>\n",
       "    </tr>\n",
       "  </tbody>\n",
       "</table>\n"
      ],
      "text/plain": [
       "<pandas.io.formats.style.Styler at 0x7fee90e128e0>"
      ]
     },
     "execution_count": 43,
     "metadata": {},
     "output_type": "execute_result"
    }
   ],
   "source": [
    "retention(reg_df, auth_df, '2020-09-01', '2020-09-15', 10)"
   ]
  },
  {
   "cell_type": "markdown",
   "id": "1de62765",
   "metadata": {},
   "source": [
    " "
   ]
  },
  {
   "cell_type": "markdown",
   "id": "444bef78",
   "metadata": {},
   "source": [
    "# Задание 2\n",
    "# Имеются результаты A/B теста, в котором двум группам пользователей предлагались различные наборы акционных предложений. Известно, что ARPU в тестовой группе выше на 5%, чем в контрольной. При этом в контрольной группе 1928 игроков из 202103 оказались платящими, а в тестовой – 1805 из 202667.\n",
    "\n",
    "# Какой набор предложений можно считать лучшим? Какие метрики стоит проанализировать для принятия правильного решения и как?\n",
    "\n"
   ]
  },
  {
   "cell_type": "code",
   "execution_count": 39,
   "id": "ffc2f4e5",
   "metadata": {},
   "outputs": [],
   "source": [
    "# Прочитаем данные. При проверке так же оказалось что необходим разделитель\n",
    "\n",
    "task2 = pd.read_csv('/Users/sergejegolaev/Work/KC/fin_project/Проект_1_Задание_2.csv', sep=';')"
   ]
  },
  {
   "cell_type": "code",
   "execution_count": 5,
   "id": "e29eecc5",
   "metadata": {},
   "outputs": [
    {
     "data": {
      "text/html": [
       "<div>\n",
       "<style scoped>\n",
       "    .dataframe tbody tr th:only-of-type {\n",
       "        vertical-align: middle;\n",
       "    }\n",
       "\n",
       "    .dataframe tbody tr th {\n",
       "        vertical-align: top;\n",
       "    }\n",
       "\n",
       "    .dataframe thead th {\n",
       "        text-align: right;\n",
       "    }\n",
       "</style>\n",
       "<table border=\"1\" class=\"dataframe\">\n",
       "  <thead>\n",
       "    <tr style=\"text-align: right;\">\n",
       "      <th></th>\n",
       "      <th>user_id</th>\n",
       "      <th>revenue</th>\n",
       "      <th>testgroup</th>\n",
       "    </tr>\n",
       "  </thead>\n",
       "  <tbody>\n",
       "    <tr>\n",
       "      <th>0</th>\n",
       "      <td>1</td>\n",
       "      <td>0</td>\n",
       "      <td>b</td>\n",
       "    </tr>\n",
       "    <tr>\n",
       "      <th>1</th>\n",
       "      <td>2</td>\n",
       "      <td>0</td>\n",
       "      <td>a</td>\n",
       "    </tr>\n",
       "    <tr>\n",
       "      <th>2</th>\n",
       "      <td>3</td>\n",
       "      <td>0</td>\n",
       "      <td>a</td>\n",
       "    </tr>\n",
       "  </tbody>\n",
       "</table>\n",
       "</div>"
      ],
      "text/plain": [
       "   user_id  revenue testgroup\n",
       "0        1        0         b\n",
       "1        2        0         a\n",
       "2        3        0         a"
      ]
     },
     "execution_count": 5,
     "metadata": {},
     "output_type": "execute_result"
    }
   ],
   "source": [
    "task2.head(3)"
   ]
  },
  {
   "cell_type": "code",
   "execution_count": 6,
   "id": "005a3d45",
   "metadata": {},
   "outputs": [
    {
     "name": "stdout",
     "output_type": "stream",
     "text": [
      "<class 'pandas.core.frame.DataFrame'>\n",
      "RangeIndex: 404770 entries, 0 to 404769\n",
      "Data columns (total 3 columns):\n",
      " #   Column     Non-Null Count   Dtype \n",
      "---  ------     --------------   ----- \n",
      " 0   user_id    404770 non-null  int64 \n",
      " 1   revenue    404770 non-null  int64 \n",
      " 2   testgroup  404770 non-null  object\n",
      "dtypes: int64(2), object(1)\n",
      "memory usage: 9.3+ MB\n"
     ]
    }
   ],
   "source": [
    "task2.info()"
   ]
  },
  {
   "cell_type": "code",
   "execution_count": 7,
   "id": "f96329c4",
   "metadata": {},
   "outputs": [
    {
     "data": {
      "text/plain": [
       "0"
      ]
     },
     "execution_count": 7,
     "metadata": {},
     "output_type": "execute_result"
    }
   ],
   "source": [
    "# Проверим дубли по пользователям, чтобы исключить попадание в обе группы\n",
    "task2.user_id.duplicated().sum()"
   ]
  },
  {
   "cell_type": "code",
   "execution_count": 8,
   "id": "8c006251",
   "metadata": {},
   "outputs": [
    {
     "data": {
      "text/plain": [
       "revenue    5421603\n",
       "dtype: int64"
      ]
     },
     "execution_count": 8,
     "metadata": {},
     "output_type": "execute_result"
    }
   ],
   "source": [
    "task2.query('testgroup == \"b\"').agg({\"revenue\": 'sum'})"
   ]
  },
  {
   "cell_type": "code",
   "execution_count": 9,
   "id": "47a6ffd3",
   "metadata": {},
   "outputs": [
    {
     "data": {
      "text/plain": [
       "revenue    5136189\n",
       "dtype: int64"
      ]
     },
     "execution_count": 9,
     "metadata": {},
     "output_type": "execute_result"
    }
   ],
   "source": [
    "task2.query('testgroup == \"a\"').agg({\"revenue\": 'sum'})"
   ]
  },
  {
   "cell_type": "code",
   "execution_count": 10,
   "id": "006163b9",
   "metadata": {},
   "outputs": [
    {
     "name": "stdout",
     "output_type": "stream",
     "text": [
      "ARPU в тестовой группе на 5.26 % больше, чем в контрольной группе\n"
     ]
    }
   ],
   "source": [
    "# Проверим действительно ли ARPU отличается на заявленные проценты\n",
    "\n",
    "print(\"ARPU в тестовой группе на\", ((1 - task2.query('testgroup == \"a\"')\n",
    "      .agg({'revenue': 'sum'}) / task2.query('testgroup == \"b\"')\n",
    "      .agg({'revenue': 'sum'})) * 100).revenue.round(2), \"% больше, чем в контрольной группе\")"
   ]
  },
  {
   "cell_type": "code",
   "execution_count": 11,
   "id": "56323a3e",
   "metadata": {},
   "outputs": [],
   "source": [
    "# Посмотрим на группы отдельно\n",
    "control_data = task2.query('testgroup == \"a\"')\n",
    "test_data = task2.query('testgroup == \"b\"')"
   ]
  },
  {
   "cell_type": "code",
   "execution_count": 12,
   "id": "51f2b5e7",
   "metadata": {},
   "outputs": [
    {
     "data": {
      "text/plain": [
       "count    202103.000000\n",
       "mean         25.413720\n",
       "std         920.768137\n",
       "min           0.000000\n",
       "25%           0.000000\n",
       "50%           0.000000\n",
       "75%           0.000000\n",
       "max       37433.000000\n",
       "Name: revenue, dtype: float64"
      ]
     },
     "execution_count": 12,
     "metadata": {},
     "output_type": "execute_result"
    }
   ],
   "source": [
    "control_data.revenue.describe()"
   ]
  },
  {
   "cell_type": "code",
   "execution_count": 13,
   "id": "83e96a51",
   "metadata": {},
   "outputs": [
    {
     "data": {
      "text/plain": [
       "25.413719736965806"
      ]
     },
     "execution_count": 13,
     "metadata": {},
     "output_type": "execute_result"
    }
   ],
   "source": [
    "# Посчитаем ARPU контрольной группы\n",
    "contr_arpu = control_data.revenue.describe().loc['mean']\n",
    "contr_arpu"
   ]
  },
  {
   "cell_type": "code",
   "execution_count": 14,
   "id": "26873480",
   "metadata": {},
   "outputs": [
    {
     "data": {
      "text/plain": [
       "count    202667.000000\n",
       "mean         26.751287\n",
       "std         287.324162\n",
       "min           0.000000\n",
       "25%           0.000000\n",
       "50%           0.000000\n",
       "75%           0.000000\n",
       "max        4000.000000\n",
       "Name: revenue, dtype: float64"
      ]
     },
     "execution_count": 14,
     "metadata": {},
     "output_type": "execute_result"
    }
   ],
   "source": [
    "test_data.revenue.describe()"
   ]
  },
  {
   "cell_type": "code",
   "execution_count": 15,
   "id": "7ed49b93",
   "metadata": {},
   "outputs": [
    {
     "data": {
      "text/plain": [
       "26.75128659327863"
      ]
     },
     "execution_count": 15,
     "metadata": {},
     "output_type": "execute_result"
    }
   ],
   "source": [
    "# Посчитаем ARPU тестовой группы\n",
    "test_arpu = test_data.revenue.describe().loc['mean']\n",
    "test_arpu"
   ]
  },
  {
   "cell_type": "markdown",
   "id": "12c65666",
   "metadata": {},
   "source": [
    "Теперь посмотрим на данные по платящим пользователям"
   ]
  },
  {
   "cell_type": "code",
   "execution_count": 16,
   "id": "f424eda9",
   "metadata": {},
   "outputs": [],
   "source": [
    "control_pay = task2.query('testgroup == \"a\" & revenue > 0')\n",
    "test_pay = task2.query('testgroup == \"b\" & revenue > 0')"
   ]
  },
  {
   "cell_type": "code",
   "execution_count": 17,
   "id": "66f52364",
   "metadata": {},
   "outputs": [
    {
     "data": {
      "text/html": [
       "<div>\n",
       "<style scoped>\n",
       "    .dataframe tbody tr th:only-of-type {\n",
       "        vertical-align: middle;\n",
       "    }\n",
       "\n",
       "    .dataframe tbody tr th {\n",
       "        vertical-align: top;\n",
       "    }\n",
       "\n",
       "    .dataframe thead th {\n",
       "        text-align: right;\n",
       "    }\n",
       "</style>\n",
       "<table border=\"1\" class=\"dataframe\">\n",
       "  <thead>\n",
       "    <tr style=\"text-align: right;\">\n",
       "      <th></th>\n",
       "      <th>user_id</th>\n",
       "      <th>revenue</th>\n",
       "    </tr>\n",
       "  </thead>\n",
       "  <tbody>\n",
       "    <tr>\n",
       "      <th>count</th>\n",
       "      <td>1928.000000</td>\n",
       "      <td>1928.000000</td>\n",
       "    </tr>\n",
       "    <tr>\n",
       "      <th>mean</th>\n",
       "      <td>200152.677905</td>\n",
       "      <td>2663.998444</td>\n",
       "    </tr>\n",
       "    <tr>\n",
       "      <th>std</th>\n",
       "      <td>116596.504905</td>\n",
       "      <td>9049.039763</td>\n",
       "    </tr>\n",
       "    <tr>\n",
       "      <th>min</th>\n",
       "      <td>73.000000</td>\n",
       "      <td>200.000000</td>\n",
       "    </tr>\n",
       "    <tr>\n",
       "      <th>25%</th>\n",
       "      <td>99323.000000</td>\n",
       "      <td>257.000000</td>\n",
       "    </tr>\n",
       "    <tr>\n",
       "      <th>50%</th>\n",
       "      <td>199854.500000</td>\n",
       "      <td>311.000000</td>\n",
       "    </tr>\n",
       "    <tr>\n",
       "      <th>75%</th>\n",
       "      <td>299664.250000</td>\n",
       "      <td>361.000000</td>\n",
       "    </tr>\n",
       "    <tr>\n",
       "      <th>max</th>\n",
       "      <td>404768.000000</td>\n",
       "      <td>37433.000000</td>\n",
       "    </tr>\n",
       "  </tbody>\n",
       "</table>\n",
       "</div>"
      ],
      "text/plain": [
       "             user_id       revenue\n",
       "count    1928.000000   1928.000000\n",
       "mean   200152.677905   2663.998444\n",
       "std    116596.504905   9049.039763\n",
       "min        73.000000    200.000000\n",
       "25%     99323.000000    257.000000\n",
       "50%    199854.500000    311.000000\n",
       "75%    299664.250000    361.000000\n",
       "max    404768.000000  37433.000000"
      ]
     },
     "execution_count": 17,
     "metadata": {},
     "output_type": "execute_result"
    }
   ],
   "source": [
    "control_pay.describe()"
   ]
  },
  {
   "cell_type": "code",
   "execution_count": 18,
   "id": "03511be9",
   "metadata": {},
   "outputs": [
    {
     "data": {
      "text/html": [
       "<div>\n",
       "<style scoped>\n",
       "    .dataframe tbody tr th:only-of-type {\n",
       "        vertical-align: middle;\n",
       "    }\n",
       "\n",
       "    .dataframe tbody tr th {\n",
       "        vertical-align: top;\n",
       "    }\n",
       "\n",
       "    .dataframe thead th {\n",
       "        text-align: right;\n",
       "    }\n",
       "</style>\n",
       "<table border=\"1\" class=\"dataframe\">\n",
       "  <thead>\n",
       "    <tr style=\"text-align: right;\">\n",
       "      <th></th>\n",
       "      <th>user_id</th>\n",
       "      <th>revenue</th>\n",
       "    </tr>\n",
       "  </thead>\n",
       "  <tbody>\n",
       "    <tr>\n",
       "      <th>count</th>\n",
       "      <td>1805.000000</td>\n",
       "      <td>1805.000000</td>\n",
       "    </tr>\n",
       "    <tr>\n",
       "      <th>mean</th>\n",
       "      <td>205834.548476</td>\n",
       "      <td>3003.658172</td>\n",
       "    </tr>\n",
       "    <tr>\n",
       "      <th>std</th>\n",
       "      <td>116400.045485</td>\n",
       "      <td>572.619709</td>\n",
       "    </tr>\n",
       "    <tr>\n",
       "      <th>min</th>\n",
       "      <td>161.000000</td>\n",
       "      <td>2000.000000</td>\n",
       "    </tr>\n",
       "    <tr>\n",
       "      <th>25%</th>\n",
       "      <td>106815.000000</td>\n",
       "      <td>2513.000000</td>\n",
       "    </tr>\n",
       "    <tr>\n",
       "      <th>50%</th>\n",
       "      <td>206651.000000</td>\n",
       "      <td>3022.000000</td>\n",
       "    </tr>\n",
       "    <tr>\n",
       "      <th>75%</th>\n",
       "      <td>304907.000000</td>\n",
       "      <td>3478.000000</td>\n",
       "    </tr>\n",
       "    <tr>\n",
       "      <th>max</th>\n",
       "      <td>404526.000000</td>\n",
       "      <td>4000.000000</td>\n",
       "    </tr>\n",
       "  </tbody>\n",
       "</table>\n",
       "</div>"
      ],
      "text/plain": [
       "             user_id      revenue\n",
       "count    1805.000000  1805.000000\n",
       "mean   205834.548476  3003.658172\n",
       "std    116400.045485   572.619709\n",
       "min       161.000000  2000.000000\n",
       "25%    106815.000000  2513.000000\n",
       "50%    206651.000000  3022.000000\n",
       "75%    304907.000000  3478.000000\n",
       "max    404526.000000  4000.000000"
      ]
     },
     "execution_count": 18,
     "metadata": {},
     "output_type": "execute_result"
    }
   ],
   "source": [
    "test_pay.describe()"
   ]
  },
  {
   "cell_type": "code",
   "execution_count": 19,
   "id": "f4d30d30",
   "metadata": {},
   "outputs": [
    {
     "data": {
      "text/plain": [
       "Text(0.5, 1.0, 'Cравнение платящих пользователей')"
      ]
     },
     "execution_count": 19,
     "metadata": {},
     "output_type": "execute_result"
    },
    {
     "data": {
      "image/png": "[encoded data removed]",
      "text/plain": [
       "<Figure size 640x480 with 1 Axes>"
      ]
     },
     "metadata": {},
     "output_type": "display_data"
    }
   ],
   "source": [
    "sns.boxplot(data=task2.query(\"revenue > 0\"), x=\"testgroup\", y=\"revenue\")\n",
    "plt.title(\"Cравнение платящих пользователей\")"
   ]
  },
  {
   "cell_type": "code",
   "execution_count": 20,
   "id": "6e52071e",
   "metadata": {},
   "outputs": [
    {
     "data": {
      "text/plain": [
       "Text(0.5, 1.0, 'Cравнение платящих пользователей')"
      ]
     },
     "execution_count": 20,
     "metadata": {},
     "output_type": "execute_result"
    },
    {
     "data": {
      "image/png": "[encoded data removed]",
      "text/plain": [
       "<Figure size 1278.24x600 with 1 Axes>"
      ]
     },
     "metadata": {},
     "output_type": "display_data"
    }
   ],
   "source": [
    "sns.displot(data=task2.query(\"revenue > 0\"), x=\"revenue\", hue=\"testgroup\", height=6, aspect=2)\n",
    "plt.title(\"Cравнение платящих пользователей\")"
   ]
  },
  {
   "cell_type": "markdown",
   "id": "246a3f2d",
   "metadata": {},
   "source": [
    "В контрольной группе есть выбросы которые формируют АРПУ и средний чек на близком уровне, посмотрим на распределение без них"
   ]
  },
  {
   "cell_type": "code",
   "execution_count": 24,
   "id": "2d182d47",
   "metadata": {},
   "outputs": [
    {
     "data": {
      "text/plain": [
       "Text(0.5, 1.0, 'Cравнение платящих пользователей без выбросов')"
      ]
     },
     "execution_count": 24,
     "metadata": {},
     "output_type": "execute_result"
    },
    {
     "data": {
      "image/png": "[encoded data removed]",
      "text/plain": [
       "<Figure size 640x480 with 1 Axes>"
      ]
     },
     "metadata": {},
     "output_type": "display_data"
    }
   ],
   "source": [
    "sns.boxplot(data=task2.query(\"revenue > 0 & revenue < 15000\"), x='testgroup', y='revenue')\n",
    "plt.title(\"Cравнение платящих пользователей без выбросов\")"
   ]
  },
  {
   "cell_type": "code",
   "execution_count": 22,
   "id": "736ecb02",
   "metadata": {},
   "outputs": [
    {
     "data": {
      "text/plain": [
       "Text(0.5, 1.0, 'Cравнение платящих пользователей без выбросов')"
      ]
     },
     "execution_count": 22,
     "metadata": {},
     "output_type": "execute_result"
    },
    {
     "data": {
      "image/png": "[encoded data removed]",
      "text/plain": [
       "<Figure size 1278.24x600 with 1 Axes>"
      ]
     },
     "metadata": {},
     "output_type": "display_data"
    }
   ],
   "source": [
    "sns.displot(data=task2.query(\"revenue > 0 & revenue < 15000\"), x=\"revenue\", hue=\"testgroup\", height=6, aspect=2)\n",
    "plt.title(\"Cравнение платящих пользователей без выбросов\")"
   ]
  },
  {
   "cell_type": "markdown",
   "id": "bd2cdb3c",
   "metadata": {},
   "source": [
    "Посмотрим на данные без выбросов. Выбросы есть только в контрольной группе, поэтому дополнительно фильтровать необходимо только ее"
   ]
  },
  {
   "cell_type": "code",
   "execution_count": 23,
   "id": "f87c1b3d",
   "metadata": {},
   "outputs": [],
   "source": [
    "control_pay_out_anomaly = task2.query('testgroup == \"a\" & revenue > 0 & revenue < 15000')\n",
    "test_pay_out_anomaly = task2.query('testgroup == \"b\" & revenue > 0')"
   ]
  },
  {
   "cell_type": "code",
   "execution_count": 24,
   "id": "3694b143",
   "metadata": {},
   "outputs": [
    {
     "data": {
      "text/html": [
       "<div>\n",
       "<style scoped>\n",
       "    .dataframe tbody tr th:only-of-type {\n",
       "        vertical-align: middle;\n",
       "    }\n",
       "\n",
       "    .dataframe tbody tr th {\n",
       "        vertical-align: top;\n",
       "    }\n",
       "\n",
       "    .dataframe thead th {\n",
       "        text-align: right;\n",
       "    }\n",
       "</style>\n",
       "<table border=\"1\" class=\"dataframe\">\n",
       "  <thead>\n",
       "    <tr style=\"text-align: right;\">\n",
       "      <th></th>\n",
       "      <th>user_id</th>\n",
       "      <th>revenue</th>\n",
       "    </tr>\n",
       "  </thead>\n",
       "  <tbody>\n",
       "    <tr>\n",
       "      <th>count</th>\n",
       "      <td>1805.000000</td>\n",
       "      <td>1805.000000</td>\n",
       "    </tr>\n",
       "    <tr>\n",
       "      <th>mean</th>\n",
       "      <td>199923.686981</td>\n",
       "      <td>302.458172</td>\n",
       "    </tr>\n",
       "    <tr>\n",
       "      <th>std</th>\n",
       "      <td>116615.234772</td>\n",
       "      <td>57.914246</td>\n",
       "    </tr>\n",
       "    <tr>\n",
       "      <th>min</th>\n",
       "      <td>73.000000</td>\n",
       "      <td>200.000000</td>\n",
       "    </tr>\n",
       "    <tr>\n",
       "      <th>25%</th>\n",
       "      <td>98963.000000</td>\n",
       "      <td>254.000000</td>\n",
       "    </tr>\n",
       "    <tr>\n",
       "      <th>50%</th>\n",
       "      <td>199268.000000</td>\n",
       "      <td>305.000000</td>\n",
       "    </tr>\n",
       "    <tr>\n",
       "      <th>75%</th>\n",
       "      <td>298918.000000</td>\n",
       "      <td>352.000000</td>\n",
       "    </tr>\n",
       "    <tr>\n",
       "      <th>max</th>\n",
       "      <td>404768.000000</td>\n",
       "      <td>400.000000</td>\n",
       "    </tr>\n",
       "  </tbody>\n",
       "</table>\n",
       "</div>"
      ],
      "text/plain": [
       "             user_id      revenue\n",
       "count    1805.000000  1805.000000\n",
       "mean   199923.686981   302.458172\n",
       "std    116615.234772    57.914246\n",
       "min        73.000000   200.000000\n",
       "25%     98963.000000   254.000000\n",
       "50%    199268.000000   305.000000\n",
       "75%    298918.000000   352.000000\n",
       "max    404768.000000   400.000000"
      ]
     },
     "execution_count": 24,
     "metadata": {},
     "output_type": "execute_result"
    }
   ],
   "source": [
    "control_pay_out_anomaly.describe()"
   ]
  },
  {
   "cell_type": "code",
   "execution_count": 25,
   "id": "bed0c16e",
   "metadata": {},
   "outputs": [
    {
     "data": {
      "text/plain": [
       "545937"
      ]
     },
     "execution_count": 25,
     "metadata": {},
     "output_type": "execute_result"
    }
   ],
   "source": [
    "control_pay_out_anomaly.revenue.sum()"
   ]
  },
  {
   "cell_type": "code",
   "execution_count": 26,
   "id": "f7779179",
   "metadata": {},
   "outputs": [
    {
     "data": {
      "text/plain": [
       "5421603"
      ]
     },
     "execution_count": 26,
     "metadata": {},
     "output_type": "execute_result"
    }
   ],
   "source": [
    "test_pay_out_anomaly.revenue.sum()"
   ]
  },
  {
   "cell_type": "code",
   "execution_count": 27,
   "id": "808c4a51",
   "metadata": {},
   "outputs": [
    {
     "data": {
      "text/html": [
       "<div>\n",
       "<style scoped>\n",
       "    .dataframe tbody tr th:only-of-type {\n",
       "        vertical-align: middle;\n",
       "    }\n",
       "\n",
       "    .dataframe tbody tr th {\n",
       "        vertical-align: top;\n",
       "    }\n",
       "\n",
       "    .dataframe thead th {\n",
       "        text-align: right;\n",
       "    }\n",
       "</style>\n",
       "<table border=\"1\" class=\"dataframe\">\n",
       "  <thead>\n",
       "    <tr style=\"text-align: right;\">\n",
       "      <th></th>\n",
       "      <th>user_id</th>\n",
       "      <th>revenue</th>\n",
       "    </tr>\n",
       "  </thead>\n",
       "  <tbody>\n",
       "    <tr>\n",
       "      <th>count</th>\n",
       "      <td>1805.000000</td>\n",
       "      <td>1805.000000</td>\n",
       "    </tr>\n",
       "    <tr>\n",
       "      <th>mean</th>\n",
       "      <td>205834.548476</td>\n",
       "      <td>3003.658172</td>\n",
       "    </tr>\n",
       "    <tr>\n",
       "      <th>std</th>\n",
       "      <td>116400.045485</td>\n",
       "      <td>572.619709</td>\n",
       "    </tr>\n",
       "    <tr>\n",
       "      <th>min</th>\n",
       "      <td>161.000000</td>\n",
       "      <td>2000.000000</td>\n",
       "    </tr>\n",
       "    <tr>\n",
       "      <th>25%</th>\n",
       "      <td>106815.000000</td>\n",
       "      <td>2513.000000</td>\n",
       "    </tr>\n",
       "    <tr>\n",
       "      <th>50%</th>\n",
       "      <td>206651.000000</td>\n",
       "      <td>3022.000000</td>\n",
       "    </tr>\n",
       "    <tr>\n",
       "      <th>75%</th>\n",
       "      <td>304907.000000</td>\n",
       "      <td>3478.000000</td>\n",
       "    </tr>\n",
       "    <tr>\n",
       "      <th>max</th>\n",
       "      <td>404526.000000</td>\n",
       "      <td>4000.000000</td>\n",
       "    </tr>\n",
       "  </tbody>\n",
       "</table>\n",
       "</div>"
      ],
      "text/plain": [
       "             user_id      revenue\n",
       "count    1805.000000  1805.000000\n",
       "mean   205834.548476  3003.658172\n",
       "std    116400.045485   572.619709\n",
       "min       161.000000  2000.000000\n",
       "25%    106815.000000  2513.000000\n",
       "50%    206651.000000  3022.000000\n",
       "75%    304907.000000  3478.000000\n",
       "max    404526.000000  4000.000000"
      ]
     },
     "execution_count": 27,
     "metadata": {},
     "output_type": "execute_result"
    }
   ],
   "source": [
    "test_pay_out_anomaly.describe()"
   ]
  },
  {
   "cell_type": "code",
   "execution_count": 28,
   "id": "52f472da",
   "metadata": {},
   "outputs": [
    {
     "data": {
      "text/plain": [
       "202103"
      ]
     },
     "execution_count": 28,
     "metadata": {},
     "output_type": "execute_result"
    }
   ],
   "source": [
    "# Количество пользователей в контрольной группе\n",
    "len(task2[(task2['testgroup'] == 'a')])"
   ]
  },
  {
   "cell_type": "code",
   "execution_count": 29,
   "id": "f4c79ac7",
   "metadata": {},
   "outputs": [
    {
     "data": {
      "text/plain": [
       "202667"
      ]
     },
     "execution_count": 29,
     "metadata": {},
     "output_type": "execute_result"
    }
   ],
   "source": [
    "# Количество пользователей в тестовой группе\n",
    "len(task2[(task2['testgroup'] == 'b')])"
   ]
  },
  {
   "cell_type": "code",
   "execution_count": 30,
   "id": "6288cf46",
   "metadata": {},
   "outputs": [
    {
     "data": {
      "text/plain": [
       "1805"
      ]
     },
     "execution_count": 30,
     "metadata": {},
     "output_type": "execute_result"
    }
   ],
   "source": [
    "# Количество покупателей в тестовой группе\n",
    "len(task2[(task2['testgroup'] == 'b') & (task2['revenue'] > 0)])"
   ]
  },
  {
   "cell_type": "code",
   "execution_count": 31,
   "id": "ded659df",
   "metadata": {},
   "outputs": [
    {
     "data": {
      "text/plain": [
       "1928"
      ]
     },
     "execution_count": 31,
     "metadata": {},
     "output_type": "execute_result"
    }
   ],
   "source": [
    "# Количество покупателей в контрольной группе\n",
    "len(task2[(task2['testgroup'] == 'a') & (task2['revenue'] > 0)])"
   ]
  },
  {
   "cell_type": "code",
   "execution_count": 21,
   "id": "2c01d5aa",
   "metadata": {},
   "outputs": [
    {
     "data": {
      "text/plain": [
       "0.95"
      ]
     },
     "execution_count": 21,
     "metadata": {},
     "output_type": "execute_result"
    }
   ],
   "source": [
    "# Конверсия пользователей в контрольной группе\n",
    "contr_len_pay = len(task2[(task2['testgroup'] == 'a') & (task2['revenue'] > 0)])\n",
    "contr_len = len(task2[(task2['testgroup'] == 'a')])\n",
    "round((contr_len_pay / contr_len * 100), 2)"
   ]
  },
  {
   "cell_type": "code",
   "execution_count": 22,
   "id": "92cf321b",
   "metadata": {},
   "outputs": [
    {
     "data": {
      "text/plain": [
       "0.89"
      ]
     },
     "execution_count": 22,
     "metadata": {},
     "output_type": "execute_result"
    }
   ],
   "source": [
    "# Конверсия пользователей в тестовой группе\n",
    "contr_len_pay = len(task2[(task2['testgroup'] == 'b') & (task2['revenue'] > 0)])\n",
    "contr_len = len(task2[(task2['testgroup'] == 'b')])\n",
    "round((contr_len_pay / contr_len * 100), 2)"
   ]
  },
  {
   "cell_type": "code",
   "execution_count": 23,
   "id": "774b2f1d",
   "metadata": {},
   "outputs": [
    {
     "data": {
      "text/plain": [
       "0.89"
      ]
     },
     "execution_count": 23,
     "metadata": {},
     "output_type": "execute_result"
    }
   ],
   "source": [
    "# Конверсия пользователей в контрольной группе без выбросов\n",
    "contr_len_pay = len(task2[(task2['testgroup'] == 'a') & (task2['revenue'] < 15000) & (task2['revenue'] > 0)])\n",
    "contr_len = len(task2[(task2['testgroup'] == 'a')])\n",
    "round((contr_len_pay / contr_len * 100), 2)"
   ]
  },
  {
   "cell_type": "markdown",
   "id": "271cfe54",
   "metadata": {},
   "source": [
    "## Первый предварительный вывод - изучение данных без аномалии демонстрирует прирост по всем показателям практически в 10 раз, при сравнимом показателе конверсии. Если учитывать выбросы, показатель конверсии в контрольной группе выше"
   ]
  },
  {
   "cell_type": "markdown",
   "id": "932d2e6c",
   "metadata": {},
   "source": [
    "Теперь посмотрим на выбросы"
   ]
  },
  {
   "cell_type": "code",
   "execution_count": 35,
   "id": "b88c1c0c",
   "metadata": {},
   "outputs": [],
   "source": [
    "control_pay_out_anomaly = task2.query('testgroup == \"a\" & revenue > 15000')"
   ]
  },
  {
   "cell_type": "code",
   "execution_count": 36,
   "id": "11a6686e",
   "metadata": {},
   "outputs": [
    {
     "name": "stdout",
     "output_type": "stream",
     "text": [
      "<class 'pandas.core.frame.DataFrame'>\n",
      "Int64Index: 123 entries, 416 to 399294\n",
      "Data columns (total 3 columns):\n",
      " #   Column     Non-Null Count  Dtype \n",
      "---  ------     --------------  ----- \n",
      " 0   user_id    123 non-null    int64 \n",
      " 1   revenue    123 non-null    int64 \n",
      " 2   testgroup  123 non-null    object\n",
      "dtypes: int64(2), object(1)\n",
      "memory usage: 3.8+ KB\n"
     ]
    }
   ],
   "source": [
    "control_pay_out_anomaly.info()"
   ]
  },
  {
   "cell_type": "code",
   "execution_count": 37,
   "id": "2e05b766",
   "metadata": {},
   "outputs": [
    {
     "data": {
      "text/html": [
       "<div>\n",
       "<style scoped>\n",
       "    .dataframe tbody tr th:only-of-type {\n",
       "        vertical-align: middle;\n",
       "    }\n",
       "\n",
       "    .dataframe tbody tr th {\n",
       "        vertical-align: top;\n",
       "    }\n",
       "\n",
       "    .dataframe thead th {\n",
       "        text-align: right;\n",
       "    }\n",
       "</style>\n",
       "<table border=\"1\" class=\"dataframe\">\n",
       "  <thead>\n",
       "    <tr style=\"text-align: right;\">\n",
       "      <th></th>\n",
       "      <th>user_id</th>\n",
       "      <th>revenue</th>\n",
       "    </tr>\n",
       "  </thead>\n",
       "  <tbody>\n",
       "    <tr>\n",
       "      <th>count</th>\n",
       "      <td>123.000000</td>\n",
       "      <td>123.000000</td>\n",
       "    </tr>\n",
       "    <tr>\n",
       "      <th>mean</th>\n",
       "      <td>203513.073171</td>\n",
       "      <td>37319.121951</td>\n",
       "    </tr>\n",
       "    <tr>\n",
       "      <th>std</th>\n",
       "      <td>116745.137742</td>\n",
       "      <td>25.442183</td>\n",
       "    </tr>\n",
       "    <tr>\n",
       "      <th>min</th>\n",
       "      <td>417.000000</td>\n",
       "      <td>37293.000000</td>\n",
       "    </tr>\n",
       "    <tr>\n",
       "      <th>25%</th>\n",
       "      <td>109013.500000</td>\n",
       "      <td>37301.000000</td>\n",
       "    </tr>\n",
       "    <tr>\n",
       "      <th>50%</th>\n",
       "      <td>204560.000000</td>\n",
       "      <td>37311.000000</td>\n",
       "    </tr>\n",
       "    <tr>\n",
       "      <th>75%</th>\n",
       "      <td>317108.500000</td>\n",
       "      <td>37329.000000</td>\n",
       "    </tr>\n",
       "    <tr>\n",
       "      <th>max</th>\n",
       "      <td>399295.000000</td>\n",
       "      <td>37433.000000</td>\n",
       "    </tr>\n",
       "  </tbody>\n",
       "</table>\n",
       "</div>"
      ],
      "text/plain": [
       "             user_id       revenue\n",
       "count     123.000000    123.000000\n",
       "mean   203513.073171  37319.121951\n",
       "std    116745.137742     25.442183\n",
       "min       417.000000  37293.000000\n",
       "25%    109013.500000  37301.000000\n",
       "50%    204560.000000  37311.000000\n",
       "75%    317108.500000  37329.000000\n",
       "max    399295.000000  37433.000000"
      ]
     },
     "execution_count": 37,
     "metadata": {},
     "output_type": "execute_result"
    }
   ],
   "source": [
    "control_pay_out_anomaly.describe()"
   ]
  },
  {
   "cell_type": "code",
   "execution_count": 39,
   "id": "7de69eb6",
   "metadata": {},
   "outputs": [
    {
     "data": {
      "text/plain": [
       "4590252"
      ]
     },
     "execution_count": 39,
     "metadata": {},
     "output_type": "execute_result"
    }
   ],
   "source": [
    "control_pay_out_anomaly.revenue.sum()"
   ]
  },
  {
   "cell_type": "markdown",
   "id": "d8dbd99a",
   "metadata": {},
   "source": [
    "## Второй предварительный вывод - в контрольной группе существуют 123 операции, формирующие 90% всей прибыли контрольной группы и увеличивающие показатель конверсси. Возможные причины:\n",
    "## 1. Определенный срез пользователей и все они не попали в тестовую группу\n",
    "## 2. Определнный тип дорогостоящих товаров, которые не попали во второе акционное предложение\n",
    "## 3. Ошибка в данных (например вместо покупок - сумма по данным пользователям, либо информация за другой период наблюдения, больший чем в случае тестовой группы)\n",
    "## 4. На моменте распределения пользователи которые платят очень много были в каждой группе, но в последствии в группе Б их не стало\n",
    "\n",
    "## Так как у нас нет возможности уточнить информацию, и нет дополнительных данных, принять решение какой из вариантов верный мы не можем. Будем проверять гипотезы основываясь на всех данных"
   ]
  },
  {
   "cell_type": "markdown",
   "id": "868b5753",
   "metadata": {},
   "source": [
    " "
   ]
  },
  {
   "cell_type": "markdown",
   "id": "8b1e959f",
   "metadata": {},
   "source": [
    "Проверим распределение на нормальность, учитывая выбросы и не учитывая(нулевая гипотеза - распределение нормально)"
   ]
  },
  {
   "cell_type": "markdown",
   "id": "6d68f052",
   "metadata": {},
   "source": [
    "1. Учитывая выбросы"
   ]
  },
  {
   "cell_type": "code",
   "execution_count": 40,
   "id": "b43418af",
   "metadata": {},
   "outputs": [
    {
     "data": {
      "text/plain": [
       "Text(0.5, 1.0, 'Проверка распределений платящих пользователей на нормальность, полный датасет')"
      ]
     },
     "execution_count": 40,
     "metadata": {},
     "output_type": "execute_result"
    },
    {
     "data": {
      "image/png": "[encoded data removed]",
      "text/plain": [
       "<Figure size 640x480 with 1 Axes>"
      ]
     },
     "metadata": {},
     "output_type": "display_data"
    }
   ],
   "source": [
    "# Визаулизируем\n",
    "sns.histplot(data=task2[(task2['revenue'] > 0)], x=\"revenue\", hue=\"testgroup\", kde=True)\n",
    "plt.title('Проверка распределений платящих пользователей на нормальность, полный датасет')"
   ]
  },
  {
   "cell_type": "code",
   "execution_count": 43,
   "id": "7c054a71",
   "metadata": {},
   "outputs": [
    {
     "name": "stdout",
     "output_type": "stream",
     "text": [
      "Распределение контрольной группы не нормально, отвергаем нулевую гипотезу\n"
     ]
    }
   ],
   "source": [
    "# Проверим на нормальность для контрольной группы (нулевая гипотеза - распределение нормально)\n",
    "control_data = task2[task2['testgroup'] == 'a']['revenue']\n",
    "\n",
    "# Проверка нормальности распределения в контрольной группе\n",
    "statistic, p_value = shapiro(control_data)\n",
    "\n",
    "# Вывод результатов теста\n",
    "if p_value < 0.05:\n",
    "    print(\"Распределение контрольной группы не нормально, отвергаем нулевую гипотезу\")\n",
    "else:\n",
    "    print(\"Распределение контрольной группы нормально, не отвергаем нулевую гипотезу\")"
   ]
  },
  {
   "cell_type": "code",
   "execution_count": 42,
   "id": "1082dfea",
   "metadata": {},
   "outputs": [
    {
     "name": "stdout",
     "output_type": "stream",
     "text": [
      "Распределение тестовой группы не нормально, отвергаем нулевую гипотезу\n"
     ]
    }
   ],
   "source": [
    "# Проверим на нормальность для тестовой группы (нулевая гипотеза - распределение нормально)\n",
    "test_data = task2[task2['testgroup'] == 'b']['revenue']\n",
    "\n",
    "# Проверка нормальности распределения в тестовой группе\n",
    "statistic, p_value = shapiro(test_data)\n",
    "\n",
    "# Вывод результатов теста\n",
    "if p_value < 0.05:\n",
    "    print(\"Распределение тестовой группы не нормально, отвергаем нулевую гипотезу\")\n",
    "else:\n",
    "    print(\"Распределение тестовой группы нормально, не отвергаем нулевую гипотезу\")"
   ]
  },
  {
   "cell_type": "markdown",
   "id": "343ab5d0",
   "metadata": {},
   "source": [
    " "
   ]
  },
  {
   "cell_type": "markdown",
   "id": "e58a80ee",
   "metadata": {},
   "source": [
    "2. Проверка на нормальность для платящих пользователей"
   ]
  },
  {
   "cell_type": "code",
   "execution_count": 44,
   "id": "f2375f66",
   "metadata": {},
   "outputs": [
    {
     "name": "stdout",
     "output_type": "stream",
     "text": [
      "Распределение контрольной группы не нормально, отвергаем нулевую гипотезу\n"
     ]
    }
   ],
   "source": [
    "# Проверим на нормальность для контрольной группы (нулевая гипотеза - распределение нормально)\n",
    "control_data = task2[(task2['testgroup'] == 'a') & (task2['revenue'] > 0)]['revenue']\n",
    "\n",
    "# Проверка нормальности распределения в контрольной группе\n",
    "statistic, p_value = shapiro(control_data)\n",
    "\n",
    "# Вывод результатов теста\n",
    "if p_value < 0.05:\n",
    "    print(\"Распределение контрольной группы не нормально, отвергаем нулевую гипотезу\")\n",
    "else:\n",
    "    print(\"Распределение контрольной группы нормально, не отвергаем нулевую гипотезу\")"
   ]
  },
  {
   "cell_type": "code",
   "execution_count": 45,
   "id": "2bc01351",
   "metadata": {},
   "outputs": [
    {
     "name": "stdout",
     "output_type": "stream",
     "text": [
      "Распределение тестовой группы не нормально, отвергаем нулевую гипотезу\n"
     ]
    }
   ],
   "source": [
    "# Проверим на нормальность для тестовой группы (нулевая гипотеза - распределение нормально)\n",
    "test_data = task2[(task2['testgroup'] == 'b') & (task2['revenue'] > 0)]['revenue']\n",
    "\n",
    "# Проверка нормальности распределения в тестовой группе\n",
    "statistic, p_value = shapiro(test_data)\n",
    "\n",
    "# Вывод результатов теста\n",
    "if p_value < 0.05:\n",
    "    print(\"Распределение тестовой группы не нормально, отвергаем нулевую гипотезу\")\n",
    "else:\n",
    "    print(\"Распределение тестовой группы нормально, не отвергаем нулевую гипотезу\")"
   ]
  },
  {
   "cell_type": "markdown",
   "id": "19d6b965",
   "metadata": {},
   "source": [
    "Так же проверим на нормальность тестом Шапиро-Уилка"
   ]
  },
  {
   "cell_type": "markdown",
   "id": "e1be1b76",
   "metadata": {},
   "source": [
    "### Так как ни одно из распределений не нормально, воспользуемся тестом Мана-Уитни для проверки гипотез"
   ]
  },
  {
   "cell_type": "markdown",
   "id": "ea26d03f",
   "metadata": {},
   "source": [
    "### Для оценки результатов акции сравним несколько метрик - ARPU, ARPPU, Conversion Rate"
   ]
  },
  {
   "cell_type": "markdown",
   "id": "d3eb19fb",
   "metadata": {},
   "source": [
    "#### 1. ARPU"
   ]
  },
  {
   "cell_type": "code",
   "execution_count": 40,
   "id": "d65f9998",
   "metadata": {},
   "outputs": [],
   "source": [
    "test_data = task2.query('testgroup == \"b\"')\n",
    "control_data = task2.query('testgroup == \"a\"')\n",
    "test_data_pay = task2[(task2['testgroup'] == 'a') & (task2['revenue'] > 0)]\n",
    "control_data_pay = task2[(task2['testgroup'] == 'b') & (task2['revenue'] > 0)]"
   ]
  },
  {
   "cell_type": "code",
   "execution_count": 41,
   "id": "704cb500",
   "metadata": {},
   "outputs": [
    {
     "name": "stdout",
     "output_type": "stream",
     "text": [
      "arpu_contr =  25.41\n",
      "arpu_test =  26.75\n"
     ]
    }
   ],
   "source": [
    "arpu_contr = control_data.agg({'revenue': 'sum'}) / len(control_data)\n",
    "arpu_test = test_data.agg({'revenue': 'sum'}) / len(test_data)\n",
    "print(\"arpu_contr = \", round(arpu_contr[0], 2))\n",
    "print(\"arpu_test = \", round(arpu_test[0], 2))"
   ]
  },
  {
   "cell_type": "code",
   "execution_count": 42,
   "id": "eecf308c",
   "metadata": {},
   "outputs": [
    {
     "data": {
      "text/plain": [
       "25.413719736965806"
      ]
     },
     "execution_count": 42,
     "metadata": {},
     "output_type": "execute_result"
    }
   ],
   "source": [
    "arpu_contr[0]"
   ]
  },
  {
   "cell_type": "code",
   "execution_count": 43,
   "id": "f2c87b8f",
   "metadata": {},
   "outputs": [
    {
     "name": "stdout",
     "output_type": "stream",
     "text": [
      "ARPU в тестовой группе на 5.26 % больше, чем в контрольной группе\n"
     ]
    }
   ],
   "source": [
    "# Проверим действительно ли ARPU отличается на заявленные проценты\n",
    "\n",
    "print(\"ARPU в тестовой группе на\", ((1 - task2.query('testgroup == \"a\"')\n",
    "      .agg({'revenue': 'sum'}) / task2.query('testgroup == \"b\"')\n",
    "      .agg({'revenue': 'sum'})) * 100).revenue.round(2), \"% больше, чем в контрольной группе\")"
   ]
  },
  {
   "cell_type": "markdown",
   "id": "f0ddb675",
   "metadata": {},
   "source": [
    "Теперь проверим статистические различия между группами пользователей с помощью т-теста. Нулевая гипотеза - средние значения дохода в обеих группах равны. Альтернативная гипотеза - средние значения различаются"
   ]
  },
  {
   "cell_type": "code",
   "execution_count": 44,
   "id": "e7cc9488",
   "metadata": {},
   "outputs": [
    {
     "name": "stdout",
     "output_type": "stream",
     "text": [
      "Independent t-test:\n",
      "Оставляем основную гипотезу, нет статистически значимых различий в средних значениях между группами\n"
     ]
    }
   ],
   "source": [
    "# Проведение t-теста\n",
    "statistic, p_value = ttest_ind(test_data.revenue, control_data.revenue)\n",
    "\n",
    "# Вывод результатов\n",
    "print(\"Independent t-test:\")\n",
    "if p_value < 0.05:\n",
    "    print(\"Принимаем альтернативную гипотезу, средние значения в тестовой и контрольной группах статистически различны\")\n",
    "else:\n",
    "    print(\"Оставляем основную гипотезу, нет статистически значимых различий в средних значениях между группами\")\n"
   ]
  },
  {
   "cell_type": "markdown",
   "id": "fbf216f6",
   "metadata": {},
   "source": [
    "#### 2. ARPPU"
   ]
  },
  {
   "cell_type": "code",
   "execution_count": 45,
   "id": "94335f5f",
   "metadata": {},
   "outputs": [
    {
     "name": "stdout",
     "output_type": "stream",
     "text": [
      "arppu_contr =  3003.66\n",
      "arppu_test =  2664.0\n"
     ]
    }
   ],
   "source": [
    "arppu_contr = control_data_pay.agg({'revenue': 'sum'}) / len(control_data_pay)\n",
    "arppu_test = test_data_pay.agg({'revenue': 'sum'}) / len(test_data_pay)\n",
    "print(\"arppu_contr = \", round(arppu_contr[0], 2))\n",
    "print(\"arppu_test = \", round(arppu_test[0], 2))"
   ]
  },
  {
   "cell_type": "code",
   "execution_count": 46,
   "id": "d446c307",
   "metadata": {},
   "outputs": [
    {
     "name": "stdout",
     "output_type": "stream",
     "text": [
      "ARPPU в тестовой группе на 12.75 % меньше, чем в контрольной группе\n"
     ]
    }
   ],
   "source": [
    "# Проверим соотношение ARPPU\n",
    "\n",
    "print(\"ARPPU в тестовой группе на\", ((arppu_contr / arppu_test - 1) * 100)[0].round(2),\n",
    "      \"% меньше, чем в контрольной группе\")"
   ]
  },
  {
   "cell_type": "markdown",
   "id": "a10959e5",
   "metadata": {},
   "source": [
    "Теперь проверим статистические различия между группами платящих пользователей с помощью т-теста. Нулевая гипотеза - средние значения дохода в обеих группах равны. Альтернативная гипотеза - средние значения различаются"
   ]
  },
  {
   "cell_type": "code",
   "execution_count": 47,
   "id": "559ac4aa",
   "metadata": {},
   "outputs": [
    {
     "name": "stdout",
     "output_type": "stream",
     "text": [
      "Independent t-test:\n",
      "Оставляем основную гипотезу, нет статистически значимых различий в средних значениях между группами\n"
     ]
    }
   ],
   "source": [
    "# Проведение t-теста\n",
    "statistic, p_value = ttest_ind(test_data_pay.revenue, control_data_pay.revenue)\n",
    "\n",
    "# Вывод результатов\n",
    "print(\"Independent t-test:\")\n",
    "if p_value < 0.05:\n",
    "    print(\"Принимаем альтернативную гипотезу, средние значения в тестовой и контрольной группах статистически различны\")\n",
    "else:\n",
    "    print(\"Оставляем основную гипотезу, нет статистически значимых различий в средних значениях между группами\")\n"
   ]
  },
  {
   "cell_type": "markdown",
   "id": "e139cb8a",
   "metadata": {},
   "source": [
    "#### 3. Conversion Rate"
   ]
  },
  {
   "cell_type": "code",
   "execution_count": 48,
   "id": "f26fdee9",
   "metadata": {},
   "outputs": [
    {
     "data": {
      "text/plain": [
       "0.89"
      ]
     },
     "execution_count": 48,
     "metadata": {},
     "output_type": "execute_result"
    }
   ],
   "source": [
    "# Конверсия пользователей в контрольной группе\n",
    "contr_len_pay = len(control_data_pay)\n",
    "contr_len = len(control_data)\n",
    "cr_contr = round((contr_len_pay / contr_len * 100), 2)\n",
    "cr_contr"
   ]
  },
  {
   "cell_type": "code",
   "execution_count": 49,
   "id": "d9a25b1a",
   "metadata": {},
   "outputs": [
    {
     "data": {
      "text/plain": [
       "0.95"
      ]
     },
     "execution_count": 49,
     "metadata": {},
     "output_type": "execute_result"
    }
   ],
   "source": [
    "# Конверсия пользователей в тестовой группе\n",
    "contr_len_pay = len(test_data_pay)\n",
    "contr_len = len(test_data)\n",
    "cr_test = round((contr_len_pay / contr_len * 100), 2)\n",
    "cr_test"
   ]
  },
  {
   "cell_type": "code",
   "execution_count": 50,
   "id": "41325152",
   "metadata": {},
   "outputs": [
    {
     "name": "stdout",
     "output_type": "stream",
     "text": [
      "CR в тестовой группе на 6.32 % больше, чем в контрольной группе\n"
     ]
    }
   ],
   "source": [
    "# Проверим соотношение CR\n",
    "\n",
    "print(\"CR в тестовой группе на\", round(((1 - cr_contr / cr_test) * 100), 2), \"% больше, чем в контрольной группе\")"
   ]
  },
  {
   "cell_type": "code",
   "execution_count": null,
   "id": "e23b4daf",
   "metadata": {},
   "outputs": [],
   "source": []
  },
  {
   "cell_type": "markdown",
   "id": "f689f275",
   "metadata": {},
   "source": [
    "#### Между группами пользователей есть отличия. Проверим отличия между группами методом t-test и бутстрап чтобы исключить вероятность того что эти отличия случайны"
   ]
  },
  {
   "cell_type": "markdown",
   "id": "df409e76",
   "metadata": {},
   "source": [
    "Проверим статистические различия между группами пользователей с помощью т-теста. Нулевая гипотеза - средние значения дохода в обеих группах равны. Альтернативная гипотеза - средние значения различаются"
   ]
  },
  {
   "cell_type": "code",
   "execution_count": 51,
   "id": "297e4c52",
   "metadata": {},
   "outputs": [
    {
     "name": "stdout",
     "output_type": "stream",
     "text": [
      "Independent t-test: p_value = 0.532494858971837\n",
      "Оставляем основную гипотезу, нет статистически значимых различий в средних значениях между группами\n"
     ]
    }
   ],
   "source": [
    "# Проведение t-теста\n",
    "statistic, p_value = ttest_ind(test_data.revenue, control_data.revenue)\n",
    "\n",
    "# Вывод результатов\n",
    "print(\"Independent t-test: p_value =\", p_value)\n",
    "if p_value < 0.05:\n",
    "    print(\"Принимаем альтернативную гипотезу, средние значения в тестовой и контрольной группах статистически различны\")\n",
    "else:\n",
    "    print(\"Оставляем основную гипотезу, нет статистически значимых различий в средних значениях между группами\")\n"
   ]
  },
  {
   "cell_type": "markdown",
   "id": "5f575983",
   "metadata": {},
   "source": [
    "Теперь проверим статистические различия между группами платящих пользователей с помощью т-теста. Нулевая гипотеза - средние значения дохода в обеих группах равны. Альтернативная гипотеза - средние значения различаются"
   ]
  },
  {
   "cell_type": "code",
   "execution_count": 52,
   "id": "b78de6b0",
   "metadata": {},
   "outputs": [
    {
     "name": "stdout",
     "output_type": "stream",
     "text": [
      "Independent t-test: p_value = 0.11153459157259495\n",
      "Оставляем основную гипотезу, нет статистически значимых различий в средних значениях между группами\n"
     ]
    }
   ],
   "source": [
    "# Проведение t-теста\n",
    "statistic, p_value = ttest_ind(test_data_pay.revenue, control_data_pay.revenue)\n",
    "\n",
    "# Вывод результатов\n",
    "print(\"Independent t-test: p_value =\", p_value)\n",
    "if p_value < 0.05:\n",
    "    print(\"Принимаем альтернативную гипотезу, средние значения в тестовой и контрольной группах статистически различны\")\n",
    "else:\n",
    "    print(\"Оставляем основную гипотезу, нет статистически значимых различий в средних значениях между группами\")\n"
   ]
  },
  {
   "cell_type": "markdown",
   "id": "8e75ce34",
   "metadata": {},
   "source": [
    "Так же проверим отличия между группами пользователей методом бутстрап"
   ]
  },
  {
   "cell_type": "code",
   "execution_count": 58,
   "id": "8d4d7a80",
   "metadata": {},
   "outputs": [],
   "source": [
    "# Bootstrap\n",
    "def get_bootstrap(\n",
    "    data_column_1,  # числовые значения первой выборки\n",
    "    data_column_2,  # числовые значения второй выборки\n",
    "    boot_it=1000,  # количество бутстрэп-подвыборок\n",
    "    statistic=np.mean,  # интересующая нас статистика\n",
    "    bootstrap_conf_level=0.95  # уровень значимости\n",
    "):\n",
    "    boot_data = []\n",
    "    for i in tqdm(range(boot_it)):  # извлекаем подвыборки \n",
    "        samples_1 = data_column_1.sample(\n",
    "            len(data_column_1), \n",
    "            replace=True  # параметр возвращения\n",
    "        ).values\n",
    "        \n",
    "        samples_2 = data_column_2.sample(\n",
    "            len(data_column_1),\n",
    "            replace=True\n",
    "        ).values\n",
    "        \n",
    "        boot_data.append(statistic(samples_1 - samples_2))\n",
    "    pd_boot_data = pd.DataFrame(boot_data)\n",
    "        \n",
    "    left_quant = (1 - bootstrap_conf_level) / 2\n",
    "    right_quant = 1 - (1 - bootstrap_conf_level) / 2\n",
    "    quants = pd_boot_data.quantile([left_quant, right_quant])\n",
    "        \n",
    "    p_1 = norm.cdf(\n",
    "        x=0, \n",
    "        loc=np.mean(boot_data), \n",
    "        scale=np.std(boot_data)\n",
    "    )\n",
    "    p_2 = norm.cdf(\n",
    "        x=0, \n",
    "        loc=-np.mean(boot_data), \n",
    "        scale=np.std(boot_data)\n",
    "    )\n",
    "    p_value = min(p_1, p_2) * 2\n",
    "        \n",
    "    # Визуализация\n",
    "    _, _, bars = plt.hist(pd_boot_data[0], bins=50)\n",
    "    for bar in bars:\n",
    "        if bar.get_x() <= quants.iloc[0][0] or bar.get_x() >= quants.iloc[1][0]:\n",
    "            bar.set_facecolor('red')\n",
    "        else: \n",
    "            bar.set_facecolor('grey')\n",
    "            bar.set_edgecolor('black')\n",
    "    \n",
    "    plt.style.use('ggplot')\n",
    "    plt.vlines(quants, ymin=0, ymax=50, linestyle='--')\n",
    "    plt.xlabel('boot_data')\n",
    "    plt.ylabel('frequency')\n",
    "    plt.title(\"Histogram of boot_data\")\n",
    "    plt.show()\n",
    "       \n",
    "    return {\"boot_data\": boot_data, \n",
    "            \"quants\": quants, \n",
    "            \"p_value\": p_value}"
   ]
  },
  {
   "cell_type": "code",
   "execution_count": 59,
   "id": "fff34536",
   "metadata": {},
   "outputs": [
    {
     "data": {
      "application/vnd.jupyter.widget-view+json": {
       "model_id": "9ed27ec226e24e86aa79f977a9427ae9",
       "version_major": 2,
       "version_minor": 0
      },
      "text/plain": [
       "  0%|          | 0/1000 [00:00<?, ?it/s]"
      ]
     },
     "metadata": {},
     "output_type": "display_data"
    },
    {
     "data": {
      "image/png": "[encoded data removed]",
      "text/plain": [
       "<Figure size 640x480 with 1 Axes>"
      ]
     },
     "metadata": {},
     "output_type": "display_data"
    }
   ],
   "source": [
    "# по всем пользователям\n",
    "booted_data = get_bootstrap(control_data.revenue, test_data.revenue)"
   ]
  },
  {
   "cell_type": "code",
   "execution_count": 60,
   "id": "49ac1ba8",
   "metadata": {},
   "outputs": [
    {
     "data": {
      "text/plain": [
       "0.5287658763744283"
      ]
     },
     "execution_count": 60,
     "metadata": {},
     "output_type": "execute_result"
    }
   ],
   "source": [
    "booted_data[\"p_value\"]  # альфа"
   ]
  },
  {
   "cell_type": "code",
   "execution_count": 61,
   "id": "6e8e0371",
   "metadata": {},
   "outputs": [
    {
     "data": {
      "text/html": [
       "<div>\n",
       "<style scoped>\n",
       "    .dataframe tbody tr th:only-of-type {\n",
       "        vertical-align: middle;\n",
       "    }\n",
       "\n",
       "    .dataframe tbody tr th {\n",
       "        vertical-align: top;\n",
       "    }\n",
       "\n",
       "    .dataframe thead th {\n",
       "        text-align: right;\n",
       "    }\n",
       "</style>\n",
       "<table border=\"1\" class=\"dataframe\">\n",
       "  <thead>\n",
       "    <tr style=\"text-align: right;\">\n",
       "      <th></th>\n",
       "      <th>0</th>\n",
       "    </tr>\n",
       "  </thead>\n",
       "  <tbody>\n",
       "    <tr>\n",
       "      <th>0.025</th>\n",
       "      <td>-5.555883</td>\n",
       "    </tr>\n",
       "    <tr>\n",
       "      <th>0.975</th>\n",
       "      <td>2.739416</td>\n",
       "    </tr>\n",
       "  </tbody>\n",
       "</table>\n",
       "</div>"
      ],
      "text/plain": [
       "              0\n",
       "0.025 -5.555883\n",
       "0.975  2.739416"
      ]
     },
     "execution_count": 61,
     "metadata": {},
     "output_type": "execute_result"
    }
   ],
   "source": [
    "booted_data[\"quants\"]  # ДИ"
   ]
  },
  {
   "cell_type": "markdown",
   "id": "28ec791d",
   "metadata": {},
   "source": [
    " "
   ]
  },
  {
   "cell_type": "code",
   "execution_count": 62,
   "id": "c9b16d20",
   "metadata": {},
   "outputs": [
    {
     "data": {
      "application/vnd.jupyter.widget-view+json": {
       "model_id": "69e9db451d70471c9090104e77d93887",
       "version_major": 2,
       "version_minor": 0
      },
      "text/plain": [
       "  0%|          | 0/1000 [00:00<?, ?it/s]"
      ]
     },
     "metadata": {},
     "output_type": "display_data"
    },
    {
     "data": {
      "image/png": "[encoded data removed]",
      "text/plain": [
       "<Figure size 640x480 with 1 Axes>"
      ]
     },
     "metadata": {},
     "output_type": "display_data"
    }
   ],
   "source": [
    "# По платящим пользователям\n",
    "booted_data = get_bootstrap(control_data_pay.revenue, test_data_pay.revenue)"
   ]
  },
  {
   "cell_type": "code",
   "execution_count": 63,
   "id": "91956b66",
   "metadata": {},
   "outputs": [
    {
     "data": {
      "text/plain": [
       "0.12057397628103218"
      ]
     },
     "execution_count": 63,
     "metadata": {},
     "output_type": "execute_result"
    }
   ],
   "source": [
    "booted_data[\"p_value\"]  # альфа"
   ]
  },
  {
   "cell_type": "code",
   "execution_count": 64,
   "id": "86f03336",
   "metadata": {},
   "outputs": [
    {
     "data": {
      "text/html": [
       "<div>\n",
       "<style scoped>\n",
       "    .dataframe tbody tr th:only-of-type {\n",
       "        vertical-align: middle;\n",
       "    }\n",
       "\n",
       "    .dataframe tbody tr th {\n",
       "        vertical-align: top;\n",
       "    }\n",
       "\n",
       "    .dataframe thead th {\n",
       "        text-align: right;\n",
       "    }\n",
       "</style>\n",
       "<table border=\"1\" class=\"dataframe\">\n",
       "  <thead>\n",
       "    <tr style=\"text-align: right;\">\n",
       "      <th></th>\n",
       "      <th>0</th>\n",
       "    </tr>\n",
       "  </thead>\n",
       "  <tbody>\n",
       "    <tr>\n",
       "      <th>0.025</th>\n",
       "      <td>-97.620069</td>\n",
       "    </tr>\n",
       "    <tr>\n",
       "      <th>0.975</th>\n",
       "      <td>734.611759</td>\n",
       "    </tr>\n",
       "  </tbody>\n",
       "</table>\n",
       "</div>"
      ],
      "text/plain": [
       "                0\n",
       "0.025  -97.620069\n",
       "0.975  734.611759"
      ]
     },
     "execution_count": 64,
     "metadata": {},
     "output_type": "execute_result"
    }
   ],
   "source": [
    "booted_data[\"quants\"]  # ДИ"
   ]
  },
  {
   "cell_type": "markdown",
   "id": "eb48bea0",
   "metadata": {},
   "source": [
    " "
   ]
  },
  {
   "cell_type": "markdown",
   "id": "c98b95da",
   "metadata": {},
   "source": [
    " "
   ]
  },
  {
   "cell_type": "markdown",
   "id": "f278eed5",
   "metadata": {},
   "source": [
    "# По итогам тестирования гипотез и исходя из имеющихся данных можно сделать следующие выводы:\n",
    "\n",
    "## 1. В контрольной группе имеются выбросы. Их необходимо изучить дополнительно, если окажется что их необходимо исключить из наблюдений, то в тестовой группе почти все показатели выросли в 10 раз, выкатываем обновление\n",
    "\n",
    "## 2. Если выбросы валидны, то тестирвания групп показали:\n",
    "### - ARPPU в тестовой группе на 12.75 % меньше, чем в контрольной группе\n",
    "### - ARPU в тестовой группе на 5.26 % больше, чем в контрольной группе\n",
    "### - CR в тестовой группе на 6.32 % больше, чем в контрольной группе\n",
    "### - Несмотря на отличия в ARPU, ARPPU, CR, между группами нет статистически значимых различий и по всем пользователям и по группам платящих пользователей по результатам и т-теста и по результатам бутстрапа средних\n",
    "## С точки зрения результатов А/Б тестирования раскатывать обновление не имеет смысла, в зависимости от цели обновления необходимо принимать решение\n",
    "## В зависимости от целей обновления вариант первый: сосредоточиться на платежеспособных клиентах которые формируют 90% доходов в контрольной группе - метод более рискованный т.к. при потере одного клиента прибыль падает ощутимо\n",
    "## Вариант второй - сосредоточиться на тестовом варианте - на момент наблюдения прибыль немного меньше но распределена более равномерна, между всеми покупателями, и меньше рисков потерять прибыль. \n",
    "\n",
    "\n",
    "\n",
    "## На момент наблюдения второй вариант выглядит более предпочтительным, с увеличением количества покупателей возможно вырастет прибыль именно по нему. Но за неимением дополлнительной информации (даты покупок, динамика по прибыли, и т.д.) сделать однозначный вывод невозможно. Предлагаю дополнительно изучить выбросы, и продолжить наблюдения за группами\n"
   ]
  },
  {
   "cell_type": "markdown",
   "id": "7335906a",
   "metadata": {},
   "source": [
    " "
   ]
  },
  {
   "cell_type": "markdown",
   "id": "576bfccd",
   "metadata": {},
   "source": [
    " "
   ]
  },
  {
   "cell_type": "markdown",
   "id": "3c485f53",
   "metadata": {},
   "source": [
    "# Задание 3\n",
    "# В игре Plants & Gardens каждый месяц проводятся тематические события, ограниченные по времени. В них игроки могут получить уникальные предметы для сада и персонажей, дополнительные монеты или бонусы. Для получения награды требуется пройти ряд уровней за определенное время. С помощью каких метрик можно оценить результаты последнего прошедшего события?\n",
    "\n",
    "# Предположим, в другом событии мы усложнили механику событий так, что при каждой неудачной попытке выполнения уровня игрок будет откатываться на несколько уровней назад. Изменится ли набор метрик оценки результата? Если да, то как?\n"
   ]
  },
  {
   "cell_type": "markdown",
   "id": "634331ec",
   "metadata": {},
   "source": [
    "Для оценки результатов последнего события в игре предлагаю использовать следующие основные метрики:\n",
    "\n",
    "1.\tДоход от события(revenue) – метрика покажет финансовую эффективность события и прибыль от него\n",
    "2.\tСредний доход на участника(ARPU)\n",
    "3.\tКоличество активных пользователей (MAU, DAU) \n",
    "4.\tКоличество участников события(в процентах от общего количества) – Метрика даст представление о популярности события\n",
    "5.\tКонверсия участников события в его завершение – метрика покажет насколько событие затягивает игроков\n",
    "6.\tСреднее время прохождения – метрика покажет сложность события и вовлеченность игроков\n",
    "7.\tПолученные награды( в случае если предполагается их выбор) – оценка количества и типов наград позволит оценить привлекательность конкретных наград и и популярность предметов и бонусов\n",
    "8.\tОтток пользователей – метрика покажет процент пользователей покинувших игру после обновления\n",
    "9.\tУдовлетворенность игроков (оценка события) – метрика покажет общее впечатление от события, в том числе относительно других событий\n",
    "10.\tПрохождение следующих событий – позволит оценить количество игроков которые участвуют в следующих событиях после прохождения текущего. Покажет влияние события на удержание игроков\n",
    "\n",
    "\n",
    "Для оценки результатов после изменения механики игры в сторону отката на несколько уровней назад в случае неудачной попытки, предлагаю помимо основных метрик добавить следующие:\n",
    "\n",
    "1.\tКоличество откатов в уровне – метрика покажет сложность события и требование к навыкам игрока\n",
    "2.\tСреднее количество попыток на уровень – если игрок откатывается на уровни, это может повлиять на количество попыток пройти событие\n",
    "3.\tСоотношение успешных и неуспешных попыток – метрика позволит оценить степень вовлеченности игрока при усложнении механики игры\n",
    "4.\tОтказы от события – процент отказов от продолжения прохождения события покажет недостаточность мотивации или сложность механики события\n"
   ]
  },
  {
   "cell_type": "code",
   "execution_count": null,
   "id": "ca576896",
   "metadata": {},
   "outputs": [],
   "source": []
  },
  {
   "cell_type": "code",
   "execution_count": null,
   "id": "f9559ea9",
   "metadata": {},
   "outputs": [],
   "source": []
  }
 ],
 "metadata": {
  "kernelspec": {
   "display_name": "Python 3 (ipykernel)",
   "language": "python",
   "name": "python3"
  },
  "language_info": {
   "codemirror_mode": {
    "name": "ipython",
    "version": 3
   },
   "file_extension": ".py",
   "mimetype": "text/x-python",
   "name": "python",
   "nbconvert_exporter": "python",
   "pygments_lexer": "ipython3",
   "version": "3.9.13"
  }
 },
 "nbformat": 4,
 "nbformat_minor": 5
}
